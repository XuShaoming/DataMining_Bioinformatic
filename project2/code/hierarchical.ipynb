{
 "cells": [
  {
   "cell_type": "code",
   "execution_count": 1,
   "metadata": {},
   "outputs": [],
   "source": [
    "import numpy as np\n",
    "from itertools import combinations\n",
    "import matplotlib\n",
    "import matplotlib.pyplot as plt\n",
    "import matplotlib.cm as cm\n",
    "import mylibrary as mylib\n",
    "from mylibrary import euclidean_distance\n",
    "\n",
    "%matplotlib inline"
   ]
  },
  {
   "cell_type": "code",
   "execution_count": 2,
   "metadata": {},
   "outputs": [],
   "source": [
    "def init_clusters_bank(data):\n",
    "    \"\"\"\n",
    "    Purpose:\n",
    "        init layer 0 of the clusters_bank at where each points is a cluster\n",
    "    Input: \n",
    "        data : two dimension matrix\n",
    "    output:\n",
    "        a list of set of frozenset. each frozenset is a cluster.\n",
    "    \"\"\"\n",
    "    return [set([frozenset([i+1]) for i in np.arange(len(data))])]"
   ]
  },
  {
   "cell_type": "code",
   "execution_count": 3,
   "metadata": {},
   "outputs": [],
   "source": [
    "def init_distance_matrix(clusters_bank, fun):\n",
    "    \"\"\"\n",
    "    Purpose:\n",
    "        init distance marix. distance matrix is a dictionary which key is two cluster,\n",
    "        value is the distance between the two cluster.\n",
    "    Input:\n",
    "        clusters_bank: a list of set of frozenset. each frozenset is a cluster.\n",
    "        fun: the function to calculate distance\n",
    "    Output:\n",
    "        distance_matrix:  a dictionary\n",
    "    \"\"\"\n",
    "    distance_matrix = {}\n",
    "    for cluster in combinations(clusters_bank[0], 2):\n",
    "        distance_matrix[frozenset(cluster)] = fun(data[np.asarray(list(cluster[0])) - 1], data[np.asarray(list(cluster[1])) - 1])\n",
    "    return distance_matrix"
   ]
  },
  {
   "cell_type": "code",
   "execution_count": 4,
   "metadata": {},
   "outputs": [],
   "source": [
    "def get_min_set(distance_matrix):\n",
    "    \"\"\"\n",
    "    Purpose:\n",
    "        Get two clusters which has least distance in distance matrix.\n",
    "    Input: \n",
    "        distance_matrix: a dictionary which key is two cluster, value is the distance between the two cluster.\n",
    "    Output:\n",
    "        The key which map to least value in distance_matrix.\n",
    "    \"\"\"\n",
    "    return min(distance_matrix, key=distance_matrix.get)"
   ]
  },
  {
   "cell_type": "code",
   "execution_count": 5,
   "metadata": {},
   "outputs": [],
   "source": [
    "def merge_min_set(min_set):\n",
    "    \"\"\"\n",
    "    Purpose:\n",
    "        merge two clusters in one\n",
    "    Input:\n",
    "        min_set: frozenset contains two frozensets. the two frozensets are two clusters.\n",
    "    Output:\n",
    "        merged_min_set a frozenset of cluster.\n",
    "    \"\"\"\n",
    "    merged_min_set = frozenset()\n",
    "    for val in min_set:\n",
    "        merged_min_set = merged_min_set | val\n",
    "    merged_min_set = frozenset([merged_min_set])\n",
    "    return merged_min_set"
   ]
  },
  {
   "cell_type": "code",
   "execution_count": 6,
   "metadata": {},
   "outputs": [],
   "source": [
    "def get_overlap_dict(distance_matrix, min_set):\n",
    "    \"\"\"\n",
    "    Purpose:\n",
    "        remove the items which keys has overlap with min_set in distance_matrix. Store these\n",
    "        items in overlap_dict\n",
    "    Input:\n",
    "        distance_matrix: a dictionary which key is two cluster, value is the distance between the two cluster.\n",
    "        min_set: frozenset contains two frozensets. the two frozensets are two clusters.\n",
    "    Output:\n",
    "        overlap_dict: a dictionary contans removed items from distance_matrix.\n",
    "    \"\"\"\n",
    "    overlap_dict = {}\n",
    "    for key in list(distance_matrix.keys()):\n",
    "        if(len(min_set & key) != 0):\n",
    "            overlap_dict[key] = distance_matrix.pop(key)\n",
    "    del overlap_dict[min_set]\n",
    "    return overlap_dict"
   ]
  },
  {
   "cell_type": "code",
   "execution_count": 7,
   "metadata": {},
   "outputs": [],
   "source": [
    "def update_distance_matrix(distance_matrix, overlap_dict, min_set):\n",
    "    \"\"\"\n",
    "    Purpose:\n",
    "        Update distance matrix by Min method of Hierarchical clustering. Take the min distance\n",
    "        of a cluster to two clusters in min_set as the distance between the cluster and new cluster.\n",
    "    Input:\n",
    "        distance_matrix: a dictionary which key is two cluster, value is the distance between the two cluster.\n",
    "        overlap_dict: a dictionary contans removed items from distance_matrix.\n",
    "        min_set: frozenset contains two frozensets. the two frozensets are two clusters.\n",
    "    Output:\n",
    "        updated distance_matrix\n",
    "    \"\"\"\n",
    "    merged_min_set = merge_min_set(min_set)\n",
    "    for cluster_1 in overlap_dict.keys():\n",
    "        cluster_2 = (cluster_1 | min_set) - (cluster_1 & min_set)\n",
    "        new_cluster = merged_min_set | (cluster_1 & cluster_2)\n",
    "        distance_matrix[new_cluster] = min(overlap_dict[cluster_1], overlap_dict[cluster_2])\n",
    "    return distance_matrix"
   ]
  },
  {
   "cell_type": "code",
   "execution_count": 8,
   "metadata": {},
   "outputs": [],
   "source": [
    "def update_clusters_bank(clusters_bank, distance_matrix):\n",
    "    \"\"\"\n",
    "    Purpose:\n",
    "        add new clusters as the new row of clusters_bank\n",
    "    input:\n",
    "        clusters_bank: a list of set of frozenset. each frozenset is a cluster.\n",
    "        distance_matrix: a dictionary which key is two cluster, value is the distance between the two cluster.\n",
    "    Output:\n",
    "        updated clusters_bank\n",
    "    \"\"\"\n",
    "    row = set()\n",
    "    for key in distance_matrix.keys():\n",
    "        row |= key\n",
    "    clusters_bank.append(row)\n",
    "    return clusters_bank"
   ]
  },
  {
   "cell_type": "code",
   "execution_count": 9,
   "metadata": {},
   "outputs": [],
   "source": [
    "def plot_hierarchical(data, clusters):\n",
    "    clusters = list(map(lambda x: np.asarray(list(x)), clusters))\n",
    "    label_set = set(np.arange(len(clusters)))\n",
    "    color_map = dict(zip(label_set, cm.rainbow(np.linspace(0, 1, len(label_set)))))\n",
    "    for label in label_set:\n",
    "        index = clusters[label] - 1\n",
    "        plt.scatter(data[index][:,0], data[index][:,1], s=20, c=color_map[label],\n",
    "                    alpha=0.3, label=label)\n",
    "    plt.title(\"clusters number: \"+ str(len(clusters)))\n",
    "    plt.legend(loc='best')\n",
    "    plt.show()\n",
    "    plt.close()"
   ]
  },
  {
   "cell_type": "markdown",
   "metadata": {},
   "source": [
    "## Test"
   ]
  },
  {
   "cell_type": "code",
   "execution_count": 10,
   "metadata": {},
   "outputs": [],
   "source": [
    "#data = mylib.generate_data()\n",
    "data = mylib.generate_circle()\n",
    "clusters_bank = init_clusters_bank(data)\n",
    "distance_matrix = init_distance_matrix(clusters_bank, euclidean_distance)\n",
    "while(len(distance_matrix) != 0):\n",
    "    min_set = get_min_set(distance_matrix)\n",
    "    overlap_dict = get_overlap_dict(distance_matrix, min_set)\n",
    "    distance_matrix = update_distance_matrix(distance_matrix, overlap_dict, min_set)\n",
    "    clusters_bank = update_clusters_bank(clusters_bank, distance_matrix)"
   ]
  },
  {
   "cell_type": "code",
   "execution_count": 12,
   "metadata": {
    "scrolled": true
   },
   "outputs": [
    {
     "data": {
      "image/png": "[encoded data removed]",
      "text/plain": [
       "<matplotlib.figure.Figure at 0x111e927f0>"
      ]
     },
     "metadata": {},
     "output_type": "display_data"
    }
   ],
   "source": [
    "plot_hierarchical(data, clusters_bank[-2])"
   ]
  },
  {
   "cell_type": "markdown",
   "metadata": {},
   "source": [
    "## project data"
   ]
  },
  {
   "cell_type": "code",
   "execution_count": null,
   "metadata": {},
   "outputs": [],
   "source": [
    "data, labels = mylib.get_data(\"../data/cho.txt\")\n",
    "data = mylib.pca(data)\n",
    "clusters_bank = init_clusters_bank(data)\n",
    "distance_matrix = init_distance_matrix(clusters_bank)\n",
    "while(len(distance_matrix) != 0):\n",
    "    #print(len(distance_matrix))\n",
    "    min_set = get_min_set(distance_matrix)\n",
    "    overlap_dict = get_overlap_dict(distance_matrix, min_set)\n",
    "    distance_matrix = update_distance_matrix(distance_matrix, overlap_dict, min_set)\n",
    "    clusters_bank = update_clusters_bank(clusters_bank, distance_matrix)"
   ]
  },
  {
   "cell_type": "code",
   "execution_count": null,
   "metadata": {},
   "outputs": [],
   "source": []
  }
 ],
 "metadata": {
  "kernelspec": {
   "display_name": "Python 3",
   "language": "python",
   "name": "python3"
  },
  "language_info": {
   "codemirror_mode": {
    "name": "ipython",
    "version": 3
   },
   "file_extension": ".py",
   "mimetype": "text/x-python",
   "name": "python",
   "nbconvert_exporter": "python",
   "pygments_lexer": "ipython3",
   "version": "3.6.4"
  }
 },
 "nbformat": 4,
 "nbformat_minor": 2
}
