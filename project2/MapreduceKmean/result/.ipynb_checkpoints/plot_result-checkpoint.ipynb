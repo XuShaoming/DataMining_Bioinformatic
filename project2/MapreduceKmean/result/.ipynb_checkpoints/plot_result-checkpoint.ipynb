{
 "cells": [
  {
   "cell_type": "code",
   "execution_count": 9,
   "metadata": {},
   "outputs": [],
   "source": [
    "import numpy as np\n",
    "from io import StringIO\n",
    "import matplotlib\n",
    "import matplotlib.pyplot as plt\n",
    "import matplotlib.cm as cm\n",
    "import mylibrary as mylib\n",
    "from mylibrary import euclidean_distance\n",
    "import os\n",
    "import numpy as np\n",
    "from io import StringIO\n",
    "from sklearn import datasets as ds\n",
    "\n",
    "%matplotlib inline"
   ]
  },
  {
   "cell_type": "code",
   "execution_count": 10,
   "metadata": {},
   "outputs": [],
   "source": [
    "class Center:\n",
    "    \"\"\"\n",
    "    Purpose:\n",
    "        Each Center object save the location of center and the records that belong to this center.\n",
    "        pts save the id of each record that belongs to the Center object.\n",
    "        The id of recrod is the index of record in given data matrix, start from 0.\n",
    "    \"\"\"\n",
    "    def __init__(self, center, pts):\n",
    "        self.center = center\n",
    "        self.pts = pts\n",
    "        \n",
    "    def set_center(self, center):\n",
    "        self.center = center\n",
    "        \n",
    "    def set_pts(self, pts):\n",
    "        self.pts = pts\n",
    "    \n",
    "    def __eq__(self, other): \n",
    "        return np.all(self.center == other.center)\n",
    "    \n",
    "    def __repr__(self):\n",
    "         return \"cluster: \" + str(self.center) "
   ]
  },
  {
   "cell_type": "code",
   "execution_count": 11,
   "metadata": {},
   "outputs": [],
   "source": [
    "def assign_to_center(data, centers, k):\n",
    "    \"\"\"\n",
    "    Purpose:\n",
    "        Assign records in data to centers using Euclidean distance. The record id is the index\n",
    "        of record in data matrix.\n",
    "    Input:\n",
    "        data: a two dimension matrix of real number.\n",
    "        centers: a list of Center objects.\n",
    "        k: int, the number of centers. equal to the length of centers.\n",
    "    Output:\n",
    "        centers: a list of Center objects, the pts list has been updated.\n",
    "    \"\"\"\n",
    "    dis_matrix = np.empty((0,data.shape[0]))\n",
    "    for center in centers:\n",
    "        dis_matrix = np.vstack((dis_matrix, np.sum(np.square(data - center.center), axis=1)))\n",
    "    belongs = np.argmin(dis_matrix, axis=0)\n",
    "    for i in range(k):\n",
    "        centers[i].pts = np.where(belongs == i)[0]\n",
    "    return centers"
   ]
  },
  {
   "cell_type": "code",
   "execution_count": 13,
   "metadata": {},
   "outputs": [],
   "source": [
    "def get_data(filename):\n",
    "    with open(filename) as f:\n",
    "        raw_data = np.genfromtxt(StringIO(f.read()), delimiter=\"\\t\")\n",
    "    label = raw_data[:,0:2].astype(int)\n",
    "    data = raw_data[:,2:]\n",
    "    return data, label"
   ]
  },
  {
   "cell_type": "code",
   "execution_count": 14,
   "metadata": {},
   "outputs": [],
   "source": [
    "def get_center_res(filename):\n",
    "    with open(filename) as f:\n",
    "        raw_data = np.genfromtxt(StringIO(f.read()), delimiter=\"\\t\")\n",
    "    label = raw_data[:,0:1].astype(int)\n",
    "    data = raw_data[:,1:]\n",
    "    return data, label"
   ]
  },
  {
   "cell_type": "markdown",
   "metadata": {},
   "source": [
    "## Test"
   ]
  },
  {
   "cell_type": "code",
   "execution_count": 66,
   "metadata": {},
   "outputs": [],
   "source": [
    "def plot_k_mean(data, centers, name=\"\", save_path=\"img/\"):\n",
    "    \"\"\"\n",
    "    Purpose:\n",
    "        General pupose plot function to plot k_mean funcion.\n",
    "    \"\"\"\n",
    "    try:\n",
    "        os.makedirs(save_path)\n",
    "    except FileExistsError:\n",
    "        print(\"use existing folder:\", save_path)\n",
    "        \n",
    "    label_set = set(np.arange(len(centers)))\n",
    "    color_map = dict(zip(label_set, cm.rainbow(np.linspace(0, 1, len(label_set)))))\n",
    "    for label in label_set:\n",
    "        index = centers[label].pts\n",
    "        plt.scatter(data[index][:,0], data[index][:,1], s=20, c=color_map[label],\n",
    "                    alpha=0.3, label=label)\n",
    "    name = str(name) + \"_k_mean\"\n",
    "    plt.title(name)\n",
    "    plt.legend(loc='best')\n",
    "    #plt.show()\n",
    "    plt.savefig(save_path+ name + \".png\")\n",
    "    plt.close()"
   ]
  },
  {
   "cell_type": "code",
   "execution_count": 67,
   "metadata": {},
   "outputs": [
    {
     "name": "stdout",
     "output_type": "stream",
     "text": [
      "use existing folder: img/\n"
     ]
    }
   ],
   "source": [
    "data, labels = get_data(\"cho.txt\")\n",
    "res, _ = get_center_res(\"cho_centers_res.txt\")\n",
    "centers = list(map(lambda x: Center(x,np.array([])), res))\n",
    "centers = assign_to_center(data, centers, len(centers))\n",
    "data_pca = mylib.pca(data)\n",
    "plot_k_mean(data_pca, centers, name=\"cho\")"
   ]
  },
  {
   "cell_type": "code",
   "execution_count": 68,
   "metadata": {},
   "outputs": [
    {
     "name": "stdout",
     "output_type": "stream",
     "text": [
      "use existing folder: img/\n"
     ]
    }
   ],
   "source": [
    "data, labels = get_data(\"iyer.txt\")\n",
    "res, _ = get_center_res(\"iyer_centers_res.txt\")\n",
    "centers = list(map(lambda x: Center(x,np.array([])), res))\n",
    "centers = assign_to_center(data, centers, len(centers))\n",
    "data_pca = mylib.pca(data)\n",
    "plot_k_mean(data_pca, centers, name=\"iyer\")"
   ]
  },
  {
   "cell_type": "code",
   "execution_count": 61,
   "metadata": {},
   "outputs": [
    {
     "data": {
      "text/plain": [
       "array([ 0.07463793, -0.32827586, -0.67155172, -0.65465517, -0.59586207,\n",
       "       -0.42431034, -0.50931034, -0.41465517,  0.15413793,  0.88724138,\n",
       "        0.57758621,  0.30284483,  0.06941379,  0.08303448,  0.1205    ,\n",
       "        0.4637931 ])"
      ]
     },
     "execution_count": 61,
     "metadata": {},
     "output_type": "execute_result"
    }
   ],
   "source": [
    "centers[0].center"
   ]
  },
  {
   "cell_type": "code",
   "execution_count": 39,
   "metadata": {},
   "outputs": [],
   "source": [
    "res, _ = get_center_res(\"cho_centers_res.txt\")"
   ]
  },
  {
   "cell_type": "code",
   "execution_count": 15,
   "metadata": {},
   "outputs": [
    {
     "name": "stdout",
     "output_type": "stream",
     "text": [
      "use existing folder: img/\n"
     ]
    }
   ],
   "source": [
    "data, labels = get_data(\"cho_pca.txt\")\n",
    "res, _ = get_center_res(\"cho_pca_centers_res.txt\")\n",
    "centers = list(map(lambda x: Center(x,np.array([])), res))\n",
    "centers = assign_to_center(data, centers,5)\n",
    "plot_k_mean(data, centers, name=\"cho_pca\")"
   ]
  },
  {
   "cell_type": "code",
   "execution_count": 16,
   "metadata": {},
   "outputs": [
    {
     "name": "stdout",
     "output_type": "stream",
     "text": [
      "use existing folder: img/\n"
     ]
    }
   ],
   "source": [
    "data, labels = get_data(\"iyer_pca.txt\")\n",
    "res, _ = get_center_res(\"iyer_pca_centers_res.txt\")\n",
    "centers = list(map(lambda x: Center(x,np.array([])), res))\n",
    "centers = assign_to_center(data, centers,5)\n",
    "plot_k_mean(data, centers, name=\"iyer_pca\")"
   ]
  },
  {
   "cell_type": "code",
   "execution_count": null,
   "metadata": {},
   "outputs": [],
   "source": []
  }
 ],
 "metadata": {
  "kernelspec": {
   "display_name": "projectname",
   "language": "python",
   "name": "projectname"
  },
  "language_info": {
   "codemirror_mode": {
    "name": "ipython",
    "version": 3
   },
   "file_extension": ".py",
   "mimetype": "text/x-python",
   "name": "python",
   "nbconvert_exporter": "python",
   "pygments_lexer": "ipython3",
   "version": "3.7.0"
  }
 },
 "nbformat": 4,
 "nbformat_minor": 2
}
