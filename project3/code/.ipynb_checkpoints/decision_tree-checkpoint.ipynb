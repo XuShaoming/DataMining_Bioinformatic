{
 "cells": [
  {
   "cell_type": "code",
   "execution_count": 1,
   "metadata": {},
   "outputs": [],
   "source": [
    "import numpy as np\n",
    "import mylibrary as mylib\n",
    "from mylibrary import NominalFeature\n",
    "from collections import Counter"
   ]
  },
  {
   "cell_type": "code",
   "execution_count": 2,
   "metadata": {},
   "outputs": [],
   "source": [
    "class LeafNode:\n",
    "    def __init__(self, label):\n",
    "        self.label = label\n",
    "        \n",
    "class BodyNode:\n",
    "    def __init__(self, feature_id, children):\n",
    "        self.feature_id = feature_id\n",
    "        self.children = children\n",
    "        \n",
    "    def add_child(self, name, child):\n",
    "        self.children[name] = child\n",
    "    def set_id(self, f_id):\n",
    "        self.feature_id = f_id"
   ]
  },
  {
   "cell_type": "code",
   "execution_count": 3,
   "metadata": {},
   "outputs": [],
   "source": [
    "class TreeFactory:\n",
    "    \n",
    "    def __init__(self, training_data, training_label, sub_space_fun, seed):\n",
    "        self.training_data = training_data\n",
    "        self.training_label = training_label\n",
    "        self.sub_space_fun = sub_space_fun\n",
    "        self.seed = seed\n",
    "        self.rand = np.random.RandomState(seed)\n",
    "        \n",
    "    def scale_features(self, gate_num):\n",
    "        gates = []\n",
    "        NominalFeatures = []\n",
    "        data_t = []\n",
    "        for i, row in enumerate(self.training_data.T):\n",
    "            try:\n",
    "                float(row[0])\n",
    "                row = row.astype(float)\n",
    "                old_min = np.min(row)\n",
    "                old_max = np.max(row)\n",
    "                gate = np.linspace(old_min, old_max, num=gate_num + 1)\n",
    "                gates.append(gate)\n",
    "                new_row = np.zeros(row.shape)\n",
    "                for j in range(1, len(gate) - 1):\n",
    "                    if j == 1:\n",
    "                        new_row[row < gate[j]] = j\n",
    "                    elif j < len(gate) - 2:\n",
    "                        new_row[[x[0] and x[1] for x in zip(gate[j-1] <= row, row < gate[j])]] = j\n",
    "                    else:\n",
    "                        new_row[[x[0] and x[1] for x in zip(gate[j-1] <= row, row < gate[j])]] = j\n",
    "                        new_row[row >= gate[j]] = j+1\n",
    "                data_t.append(new_row)\n",
    "            except ValueError:\n",
    "                members = list(set(row))\n",
    "                NominalFeatures.append(NominalFeature(i, members))\n",
    "                new_row = np.asarray([members.index(x) for x in row])\n",
    "                old_min = 0\n",
    "                old_max = len(members) - 1\n",
    "                gate = np.linspace(old_min, old_max, num=len(members))\n",
    "                gates.append(gate)\n",
    "                data_t.append(new_row)\n",
    "                \n",
    "        return np.asarray(data_t).T, gates, NominalFeatures\n",
    "        \n",
    "    def best_split(self, check_data, check_label, impurity_fun):\n",
    "        count = Counter(check_label)\n",
    "        parent_stat = [count[-1], count[1]]\n",
    "        gains = []\n",
    "        for row in check_data.T:\n",
    "            stat = {}\n",
    "            for i, member in enumerate(row):\n",
    "                if member not in stat:\n",
    "                    stat[member] = [0,0]\n",
    "                if check_label[i] == -1:\n",
    "                    stat[member][0] += 1\n",
    "                else:\n",
    "                    stat[member][1] += 1\n",
    "            gains.append(mylib.gain(parent_stat ,list(stat.values()), impurity_fun))\n",
    "        gains = np.asarray(gains)\n",
    "        \n",
    "        return np.argmax(gains)\n",
    "    \n",
    "    \n",
    "    def create_node(self, check_data, check_label):\n",
    "        label_set = set(check_label)\n",
    "        #all training samples have same label\n",
    "        if len(label_set) == 1:\n",
    "            return LeafNode(check_label[0])\n",
    "        # identical features\n",
    "        if check_data.shape[1] == 1:\n",
    "            return LeafNode(max(check_label, key=Counter(check_label).get))\n",
    "        \n",
    "        return BodyNode(-1, dict())\n",
    "    \n",
    "    def get_children(self, check_data, feature_id):\n",
    "        feature = check_data.T[feature_id]\n",
    "        members = set(feature)\n",
    "        member_dict = dict()\n",
    "        for member in members:\n",
    "            member_dict[member] = np.where(feature == member)[0] \n",
    "        return member_dict\n",
    "        \n",
    "    def tree_growth(self, data, label,Es, Fs, impurity_fun):\n",
    "        Es_list = np.asarray(list(Es))\n",
    "        Fs_list = np.asarray(list(Fs))\n",
    "        #chose a subset of features \n",
    "        sub_Fs_num = self.sub_space_fun(len(Fs_list))\n",
    "        Fs_list = Fs_list[self.rand.permutation(len(Fs_list))[0:sub_Fs_num]]\n",
    "        \n",
    "        check_data = data[Es_list, :][:, Fs_list]\n",
    "        check_label = label[Es_list]\n",
    "        node = self.create_node(check_data, check_label)\n",
    "        if type(node) is LeafNode:\n",
    "            return node\n",
    "        else:\n",
    "            feature_virtual_id = self.best_split(check_data, check_label, impurity_fun)\n",
    "            feature_actual_id = Fs_list[feature_virtual_id]\n",
    "            node.set_id(feature_actual_id)\n",
    "            new_Fs = Fs - set([feature_actual_id])\n",
    "            children_dict = self.get_children(check_data, feature_virtual_id)\n",
    "            \n",
    "            #majority vote for unseen samples\n",
    "            feature_members = set(data[:, feature_actual_id])\n",
    "            c_feature_members = set(children_dict.keys())\n",
    "            uncovered_members = feature_members - c_feature_members\n",
    "            guess_label = max(check_label, key=Counter(check_label).get)\n",
    "            for name in uncovered_members:\n",
    "                node.add_child(name, LeafNode(guess_label))\n",
    "    \n",
    "            del check_data\n",
    "            del check_label\n",
    "            for name, Evs_vitual_list in children_dict.items():\n",
    "                Evs = set(Es_list[Evs_vitual_list])\n",
    "                child = self.tree_growth(data, label, Evs, new_Fs, impurity_fun)\n",
    "                node.add_child(name, child)\n",
    "        return node\n",
    "    \n",
    "    def get_DT_machine(self, gate_num, impurity_fun):\n",
    "        data, gates, nominal_features = self.scale_features(gate_num)\n",
    "        label = mylib.convert_label(self.training_label)\n",
    "        Es = set(range(data.shape[0]))\n",
    "        Fs = set(range(data.shape[1]))\n",
    "        root = self.tree_growth(data, label, Es, Fs, impurity_fun)\n",
    "        \n",
    "        return DT_machine(root, gates, nominal_features)"
   ]
  },
  {
   "cell_type": "code",
   "execution_count": 4,
   "metadata": {},
   "outputs": [],
   "source": [
    "class DT_machine:\n",
    "    def __init__(self, root, gates, nominal_features):\n",
    "        self.root = root\n",
    "        self.gates = gates.copy()\n",
    "        self.nominal_features = nominal_features.copy()\n",
    "    \n",
    "    def preprocess(self, the_data):\n",
    "        data_t = []\n",
    "        nominal_ids = [obj.col_id for obj in self.nominal_features]\n",
    "        nominal_loc = 0\n",
    "        \n",
    "        for i, row in enumerate(the_data.T):\n",
    "            if i not in nominal_ids:\n",
    "                row = row.astype(float)\n",
    "                new_row = np.zeros(row.shape)\n",
    "                gate = self.gates[i]\n",
    "                for j in range(1, len(gate) - 1):\n",
    "                    if j == 1:\n",
    "                        new_row[row < gate[j]] = j\n",
    "                    elif j < len(gate) - 2:\n",
    "                        new_row[[x[0] and x[1] for x in zip(gate[j-1] <= row, row < gate[j])]] = j\n",
    "                    else:\n",
    "                        new_row[[x[0] and x[1] for x in zip(gate[j-1] <= row, row < gate[j])]] = j\n",
    "                        new_row[row >= gate[j]] = j+1\n",
    "                data_t.append(new_row)\n",
    "            else:\n",
    "                nominal = self.nominal_features[nominal_loc]\n",
    "                new_row = np.asarray([nominal.members.index(x) for x in row])\n",
    "                data_t.append(new_row)\n",
    "                nominal_loc += 1\n",
    "                \n",
    "        return np.asarray(data_t).T\n",
    "    \n",
    "    def predict_aux(self, node, entry):\n",
    "        if type(node) is LeafNode:\n",
    "            return node.label\n",
    "        return self.predict_aux(node.children[entry[node.feature_id]], entry)\n",
    "    \n",
    "    def predict(self, test_data):\n",
    "        data_test = self.preprocess(test_data)\n",
    "        res_label = []\n",
    "        for row in data_test:\n",
    "            res_label.append(self.predict_aux(self.root, row))\n",
    "        return np.asarray(res_label)"
   ]
  },
  {
   "cell_type": "code",
   "execution_count": 5,
   "metadata": {},
   "outputs": [],
   "source": [
    "def sub_p(method=1):\n",
    "    \"\"\"\n",
    "    recommend:\n",
    "        method_1 for single Tree\n",
    "        method_2 for Classification problem\n",
    "        method_3 for regression problem\n",
    "    \"\"\"\n",
    "    def method_1(p):\n",
    "        return p\n",
    "    def method_2(p):\n",
    "        return int(np.log2(p))\n",
    "    def method_3(p):\n",
    "        return int(p/3)\n",
    "    \n",
    "    if method == 2:\n",
    "        return method_2\n",
    "    elif method == 3:\n",
    "        return method_3\n",
    "    else:\n",
    "        return method_1"
   ]
  },
  {
   "cell_type": "code",
   "execution_count": 20,
   "metadata": {},
   "outputs": [
    {
     "data": {
      "text/plain": [
       "[1, 2, 3, 4]"
      ]
     },
     "execution_count": 20,
     "metadata": {},
     "output_type": "execute_result"
    }
   ],
   "source": [
    "list(range(1,4+1))"
   ]
  },
  {
   "cell_type": "code",
   "execution_count": 14,
   "metadata": {},
   "outputs": [],
   "source": [
    "seed = 20\n",
    "raw_set= mylib.get_set(\"../data/project3_dataset1.txt\")\n",
    "training_set, test_set = mylib.n_fold(10 ,0, raw_set)\n",
    "training_data, training_label = mylib.get_data_label(training_set)\n",
    "factory = TreeFactory(training_data, training_label, sub_p(method=2), seed)\n",
    "dtree = factory.get_DT_machine(4, mylib.entropy)\n",
    "test_data, test_label = mylib.get_data_label(test_set)"
   ]
  },
  {
   "cell_type": "code",
   "execution_count": 18,
   "metadata": {},
   "outputs": [
    {
     "data": {
      "text/plain": [
       "array([2., 1., 2., 2., 1., 2., 2., 1., 2., 2., 2., 2., 2., 1., 1., 2., 1.,\n",
       "       2., 1., 2., 3., 1., 2., 1., 3., 1., 3., 2., 1., 1., 1., 2., 3., 1.,\n",
       "       1., 2., 2., 1., 2., 3., 2., 2., 2., 2., 1., 2., 1., 3., 2., 1., 3.,\n",
       "       1., 2., 2., 2., 2., 1., 1., 1., 2., 2., 2., 1., 2., 2., 2., 2., 3.,\n",
       "       3., 2., 2., 1., 1., 2., 1., 2., 1., 2., 2., 2., 2., 2., 1., 1., 2.,\n",
       "       2., 2., 2., 1., 2., 1., 1., 2., 1., 1., 1., 2., 2., 1., 2., 1., 1.,\n",
       "       2., 1., 2., 1., 1., 1., 3., 2., 2., 2., 2., 2., 2., 2., 3., 1., 1.,\n",
       "       1., 1., 2., 2., 1., 2., 1., 2., 3., 1., 1., 2., 2., 2., 2., 2., 2.,\n",
       "       2., 1., 2., 1., 1., 2., 2., 1., 2., 2., 2., 2., 2., 2., 1., 1., 3.,\n",
       "       1., 1., 2., 2., 1., 2., 1., 1., 2., 3., 1., 3., 2., 1., 2., 1., 1.,\n",
       "       2., 2., 1., 2., 2., 2., 2., 2., 2., 3., 2., 2., 1., 2., 2., 3., 3.,\n",
       "       2., 1., 2., 1., 1., 3., 2., 1., 2., 2., 1., 2., 1., 1., 1., 2., 2.,\n",
       "       3., 2., 2., 1., 1., 2., 3., 2., 1., 1., 1., 1., 3., 1., 2., 2., 2.,\n",
       "       2., 2., 2., 2., 1., 1., 1., 2., 2., 2., 3., 1., 3., 1., 3., 3., 2.,\n",
       "       1., 1., 2., 2., 1., 1., 3., 2., 1., 1., 2., 1., 2., 2., 1., 1., 4.,\n",
       "       1., 1., 1., 1., 3., 2., 1., 2., 1., 2., 1., 2., 2., 2., 2., 1., 1.,\n",
       "       2., 2., 2., 2., 2., 2., 2., 2., 2., 2., 2., 3., 2., 1., 2., 2., 1.,\n",
       "       3., 2., 2., 2., 2., 1., 2., 2., 2., 3., 2., 2., 1., 2., 1., 1., 1.,\n",
       "       1., 3., 2., 2., 3., 2., 1., 2., 3., 1., 2., 2., 1., 2., 2., 2., 2.,\n",
       "       1., 1., 2., 2., 1., 3., 1., 2., 3., 1., 3., 1., 4., 2., 2., 1., 2.,\n",
       "       1., 2., 3., 1., 3., 2., 1., 2., 1., 2., 2., 2., 2., 2., 1., 1., 1.,\n",
       "       2., 2., 1., 2., 2., 2., 3., 2., 3., 2., 2., 1., 2., 2., 2., 1., 1.,\n",
       "       2., 2., 3., 2., 2., 2., 2., 1., 2., 1., 2., 2., 2., 2., 1., 2., 1.,\n",
       "       1., 2., 1., 2., 3., 2., 1., 2., 2., 2., 1., 2., 1., 4., 2., 3., 2.,\n",
       "       2., 2., 2., 3., 2., 2., 2., 2., 2., 3., 1., 1., 2., 2., 2., 1., 1.,\n",
       "       2., 2., 2., 2., 2., 3., 1., 2., 1., 3., 2., 1., 2., 3., 1., 2., 2.,\n",
       "       2., 2., 2., 2., 2., 1., 2., 2., 2., 1., 2., 2., 2., 1., 1., 2., 3.,\n",
       "       1., 2., 2., 1., 3., 2., 1., 2., 2., 2., 2., 2., 2., 1., 2., 2., 1.,\n",
       "       2., 2., 2., 2., 2., 2., 2., 2., 1., 2., 2., 1., 2., 2., 3., 2., 2.,\n",
       "       3., 1., 1., 2., 3., 1., 2., 2., 2., 2., 1., 1., 2., 3., 2., 3., 3.,\n",
       "       1., 2., 2.])"
      ]
     },
     "execution_count": 18,
     "metadata": {},
     "output_type": "execute_result"
    }
   ],
   "source": [
    "dtree.preprocess(training_data)[:,1]"
   ]
  },
  {
   "cell_type": "code",
   "execution_count": 10,
   "metadata": {},
   "outputs": [
    {
     "data": {
      "text/plain": [
       "array([1., 1., 1., 1., 1., 1., 1., 1., 1., 1., 1., 1., 1., 1., 1., 1., 1.,\n",
       "       1., 1., 1., 1., 1., 1., 2., 1., 1., 1., 1., 1., 1., 2., 1., 1., 2.,\n",
       "       1., 1., 1., 1., 1., 1., 1., 1., 1., 1., 2., 1., 2., 1., 1., 1., 1.,\n",
       "       1., 1., 1., 1., 1.])"
      ]
     },
     "execution_count": 10,
     "metadata": {},
     "output_type": "execute_result"
    }
   ],
   "source": [
    "dtree.preprocess(test_data)[:,10]"
   ]
  },
  {
   "cell_type": "code",
   "execution_count": 7,
   "metadata": {},
   "outputs": [
    {
     "data": {
      "text/plain": [
       "(56, 30)"
      ]
     },
     "execution_count": 7,
     "metadata": {},
     "output_type": "execute_result"
    }
   ],
   "source": [
    "np.shape(test_data)"
   ]
  },
  {
   "cell_type": "code",
   "execution_count": 9,
   "metadata": {},
   "outputs": [
    {
     "data": {
      "text/plain": [
       "array([ True,  True,  True,  True,  True,  True,  True,  True,  True,\n",
       "        True,  True,  True,  True,  True,  True,  True,  True,  True,\n",
       "        True,  True, False,  True,  True, False,  True, False,  True,\n",
       "        True, False,  True,  True,  True,  True,  True,  True,  True,\n",
       "        True,  True,  True,  True,  True,  True,  True,  True,  True,\n",
       "        True, False,  True,  True,  True,  True, False,  True,  True,\n",
       "       False,  True])"
      ]
     },
     "execution_count": 9,
     "metadata": {},
     "output_type": "execute_result"
    }
   ],
   "source": [
    "res_label = dtree.predict(test_data)\n",
    "true_label = mylib.convert_label(test_label)\n",
    "res_label == true_label"
   ]
  },
  {
   "cell_type": "code",
   "execution_count": 10,
   "metadata": {},
   "outputs": [
    {
     "data": {
      "text/plain": [
       "array([ 1.,  1., -1., -1., -1.,  1., -1., -1.,  1.,  1.,  1., -1., -1.,\n",
       "        1., -1., -1., -1., -1., -1., -1.,  1., -1., -1., -1., -1.,  1.,\n",
       "       -1., -1.,  1., -1.,  1., -1.,  1.,  1.,  1.,  1.,  1.,  1.,  1.,\n",
       "        1., -1., -1., -1., -1.,  1., -1.,  1., -1.,  1., -1.,  1., -1.,\n",
       "       -1.,  1.,  1., -1.])"
      ]
     },
     "execution_count": 10,
     "metadata": {},
     "output_type": "execute_result"
    }
   ],
   "source": [
    "res_label"
   ]
  },
  {
   "cell_type": "code",
   "execution_count": null,
   "metadata": {},
   "outputs": [],
   "source": []
  }
 ],
 "metadata": {
  "kernelspec": {
   "display_name": "Python 3",
   "language": "python",
   "name": "python3"
  },
  "language_info": {
   "codemirror_mode": {
    "name": "ipython",
    "version": 3
   },
   "file_extension": ".py",
   "mimetype": "text/x-python",
   "name": "python",
   "nbconvert_exporter": "python",
   "pygments_lexer": "ipython3",
   "version": "3.6.4"
  }
 },
 "nbformat": 4,
 "nbformat_minor": 2
}
