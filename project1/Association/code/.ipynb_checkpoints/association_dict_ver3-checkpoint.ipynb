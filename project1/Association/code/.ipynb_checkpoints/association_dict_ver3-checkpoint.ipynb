{
 "cells": [
  {
   "cell_type": "code",
   "execution_count": 2,
   "metadata": {},
   "outputs": [],
   "source": [
    "import numpy as np\n",
    "from io import StringIO\n",
    "from collections import deque\n",
    "import pickle"
   ]
  },
  {
   "cell_type": "markdown",
   "metadata": {},
   "source": [
    "## Apriori Rule "
   ]
  },
  {
   "cell_type": "code",
   "execution_count": 3,
   "metadata": {},
   "outputs": [],
   "source": [
    "def get_data(filename):\n",
    "    \"\"\"\n",
    "    Purpose:\n",
    "        Read file, and extract data and label from it.\n",
    "    Input:\n",
    "        filename: String\n",
    "    Output:\n",
    "        data: a matrix of string\n",
    "        label: a vector of string\n",
    "    \"\"\"\n",
    "    with open(filename) as f:\n",
    "        raw_data = np.genfromtxt(StringIO(f.read()), delimiter=\"\\t\",dtype='str')\n",
    "        data = raw_data[:,:-1]\n",
    "        label = raw_data[:,-1]\n",
    "    return data, label"
   ]
  },
  {
   "cell_type": "code",
   "execution_count": 4,
   "metadata": {},
   "outputs": [],
   "source": [
    "def pre_process(data):\n",
    "    \"\"\"\n",
    "    Purpose:\n",
    "        preprocees data in place\n",
    "    Input:\n",
    "        data: a matrix of string\n",
    "    output:\n",
    "        None\n",
    "    \"\"\"\n",
    "    for i in range(len(data)):\n",
    "        for j in range(len(data[i])):\n",
    "            data[i,j] = 'G' + str(j) + '_' + data[i,j]"
   ]
  },
  {
   "cell_type": "code",
   "execution_count": 5,
   "metadata": {},
   "outputs": [],
   "source": [
    "def get_C1(data):\n",
    "    \"\"\"\n",
    "    Purpose:\n",
    "        Get all the length one itemsets of data\n",
    "    input: \n",
    "        data: a matrix of string\n",
    "    output: \n",
    "        res: a set contains frozenset type elements.\n",
    "    \"\"\"\n",
    "    res = set()\n",
    "    for row in data:\n",
    "        for item in row:\n",
    "            res.add(frozenset([item]))\n",
    "    return res"
   ]
  },
  {
   "cell_type": "code",
   "execution_count": 6,
   "metadata": {},
   "outputs": [],
   "source": [
    "def get_freqI(data, Ck, min_support, record):\n",
    "    \"\"\"\n",
    "    Purpose:\n",
    "        Generate the frequent and the unfrequent items from the candidate itemsets.\n",
    "    input:\n",
    "        data: a matrix of string \n",
    "        Ck : set of frozenset, current candidate frequent itemsets\n",
    "        min_support: float, the minimum support\n",
    "        record: a dictionary. Key type is frozenset, value type is float.\n",
    "    Output:\n",
    "        Fq: a list of frozenset, contains all the frequent itemsets.\n",
    "        UnFq: a list of frozenset, contains all the unfrequent itemsets.\n",
    "    \"\"\"\n",
    "    N = data.shape[0]\n",
    "    Fq = []\n",
    "    UnFq = []\n",
    "    for item in Ck:\n",
    "        count = 0\n",
    "        for row in data:\n",
    "            if item.issubset(row):\n",
    "                count += 1\n",
    "        support = count / N\n",
    "        if support >= min_support:\n",
    "            Fq.append(item)\n",
    "        else:\n",
    "            UnFq.append(item)\n",
    "        record[item] = support\n",
    "    return Fq, UnFq    "
   ]
  },
  {
   "cell_type": "code",
   "execution_count": 7,
   "metadata": {},
   "outputs": [],
   "source": [
    "def get_Ck(Fq):\n",
    "    \"\"\"\n",
    "    Purpose:\n",
    "        Gnenrate the candidate itemsets by using previous freqent itemsets\n",
    "    input:\n",
    "        Fq: list of frozenset, previous frequent itemsets\n",
    "    output:\n",
    "        Ck: set of frozenset, current candidate itemsets\n",
    "    \"\"\"\n",
    "    C = Fq\n",
    "    C_level = len(C[0])\n",
    "    C1 = set()\n",
    "    Ck = set()\n",
    "    \n",
    "    for item in C:\n",
    "        for elem in item:\n",
    "            C1.add(frozenset([elem]))\n",
    "        \n",
    "    for item in C:\n",
    "        for elem in C1:\n",
    "            check = item | elem\n",
    "            if(len(check) - C_level == 1):\n",
    "                Ck.add(check)\n",
    "    return Ck"
   ]
  },
  {
   "cell_type": "code",
   "execution_count": 8,
   "metadata": {},
   "outputs": [],
   "source": [
    "def eliminate_infeq(Ck, unfq):\n",
    "    \"\"\"\n",
    "    Purpose:\n",
    "        prune the candidate itemsets by the previous unfrequent itemsets.\n",
    "    Input:\n",
    "        Ck: a set of frozenset, current candidate itemsets\n",
    "        unfq: a list of frozenset, previous unfrequent itemsets.\n",
    "    Output:\n",
    "        res: a set of frozenset, the prunded current candidate itemsets\n",
    "    \"\"\"\n",
    "    res = set()\n",
    "    for i in Ck:\n",
    "        for j in unfq:\n",
    "            if j.issubset(i):\n",
    "                break\n",
    "        else:\n",
    "            res.add(i)\n",
    "    return res"
   ]
  },
  {
   "cell_type": "code",
   "execution_count": 9,
   "metadata": {},
   "outputs": [],
   "source": [
    "def count(fq_list, support):\n",
    "    \"\"\"\n",
    "    Purpose:\n",
    "        Count the numbers of differnt length itemsets in the frequent list.\n",
    "    \"\"\"\n",
    "    count = 0\n",
    "    print(\"Support is set to be {}%\".format(support * 100))\n",
    "    for i in range(len(fq_list) - 1):\n",
    "        count += len(fq_list[i])\n",
    "        print(\"number of length-{} frequent itemsets: {}\".format(i+1, len(fq_list[i])))\n",
    "    print(\"number of all lengths frequent itemsets: {}\".format(count))"
   ]
  },
  {
   "cell_type": "code",
   "execution_count": 10,
   "metadata": {},
   "outputs": [],
   "source": [
    "def apriori(filename, support=0.5):\n",
    "    \"\"\"\n",
    "    Purpose:\n",
    "        Doing apriori minging on given data.\n",
    "    Input:\n",
    "        filename: String, the filename of data\n",
    "        Support: float, the minimum support, default 0.5\n",
    "    Output:\n",
    "        fq_list: a two dimensions list of frozenset. Store the frequent itemsets.\n",
    "        record: a dictionary. Key type is frozenset, value type is float.    \n",
    "    \"\"\"\n",
    "    data, label = get_data(filename)\n",
    "    pre_process(data)\n",
    "    record = {}\n",
    "    C1 = get_C1(data)\n",
    "    fq_list = []\n",
    "    fq, unfq = get_freqI(data, C1, support, record)\n",
    "    fq_list.append(fq)\n",
    "    while len(fq_list[-1]) != 0:\n",
    "        Ck = get_Ck(fq_list[-1])\n",
    "        Ck = eliminate_infeq(Ck, unfq)\n",
    "        fq, unfq = get_freqI(data, Ck, support, record)\n",
    "        fq_list.append(fq)\n",
    "    return fq_list, record"
   ]
  },
  {
   "cell_type": "markdown",
   "metadata": {},
   "source": [
    "## Association rule"
   ]
  },
  {
   "cell_type": "code",
   "execution_count": 79,
   "metadata": {},
   "outputs": [],
   "source": [
    "def rule_gen(itemset, record, min_conf, res):\n",
    "    \"\"\"\n",
    "    Purpose:\n",
    "        generate the association rule fro the given itemset\n",
    "    Input:\n",
    "        itemset: frozenset of itemset\n",
    "        record: dictionary, Key is the frozenset of itemsets , value is the support\n",
    "        min_conf: float, the minimum confidence\n",
    "        res: dictionary, Key is the frozenset of itemsets , value is the confidence\n",
    "    Output:\n",
    "        res: dictionary, Key is the frozenset of itemsets , value is the confidence\n",
    "    \"\"\"\n",
    "    queue = deque()\n",
    "    queue.append(itemset)\n",
    "    while len(queue) != 0:\n",
    "        item = queue.popleft()\n",
    "        conf = record[itemset] / record[item]\n",
    "        if  conf >= min_conf:\n",
    "            res[(item, itemset - item)] = conf\n",
    "            if(len(item) > 1):\n",
    "                c1 = [frozenset([elem]) for elem in item]\n",
    "                for elem in c1:\n",
    "                    queue.append(item - elem)\n",
    "    res.pop((itemset, frozenset()))\n",
    "    return res"
   ]
  },
  {
   "cell_type": "code",
   "execution_count": 78,
   "metadata": {},
   "outputs": [],
   "source": [
    "def get_rule(combinations, min_conf, record, res):\n",
    "    \"\"\"\n",
    "    Purpose:\n",
    "        get the association rule of all the itemsets from the combinations list. And\n",
    "        save the rule in the res dictionray.\n",
    "    Input:\n",
    "        combinations: a list of frozenset of itemsets. \n",
    "        min_conf: float, the minimum confidence\n",
    "        record: dictionary, Key is the frozenset of itemsets , value is the support\n",
    "        res: dictionary, Key is the frozenset of itemsets , value is the confidence \n",
    "    Output:\n",
    "        None\n",
    "    \"\"\"\n",
    "    for row in combinations:\n",
    "        for elem in row:\n",
    "            rule_gen(elem, record, min_conf, res)"
   ]
  },
  {
   "cell_type": "code",
   "execution_count": 13,
   "metadata": {},
   "outputs": [],
   "source": [
    "def item_combinations(items):\n",
    "    \"\"\"\n",
    "    Purpose:\n",
    "        get all the combinations of items from the list.\n",
    "    Input:\n",
    "        items: list of string. Each element in list represent an itemset\n",
    "    Output:\n",
    "        res[:-1]: a list of frozenset. \n",
    "    \"\"\"\n",
    "    res = []\n",
    "    res.append(get_C1([items]))\n",
    "    while len(res[-1]) != 0 :\n",
    "        Ck = get_Ck([i for i in res[-1]])\n",
    "        res.append(Ck)\n",
    "    return res[:-1]"
   ]
  },
  {
   "cell_type": "code",
   "execution_count": 14,
   "metadata": {},
   "outputs": [],
   "source": [
    "def combination_any(items, fq_list):\n",
    "    \"\"\"\n",
    "    Input:\n",
    "        items: list of string. Each element in list represent an itemset\n",
    "        fq_list: a two dimension list of the frozenset of itemsets.\n",
    "    Output:\n",
    "        combinations: a list of frozenset. \n",
    "    \"\"\"\n",
    "    combinations = []\n",
    "    itemset = frozenset(items)\n",
    "    for row in fq_list[1:-1]:\n",
    "        combinations.append([])\n",
    "        for item in row:\n",
    "            if len(item) != len(item - itemset):\n",
    "                combinations[-1].append(item)\n",
    "    return combinations"
   ]
  },
  {
   "cell_type": "code",
   "execution_count": 15,
   "metadata": {},
   "outputs": [],
   "source": [
    "def combination_none(items, fq_list):\n",
    "    \"\"\"\n",
    "    Input:\n",
    "        items: list of string. Each element in list represent an itemset\n",
    "        fq_list: a two dimension list of the frozenset of itemsets.\n",
    "    Output:\n",
    "        combinations: a list of frozenset. \n",
    "    \"\"\"\n",
    "    combinations = []\n",
    "    itemset = frozenset(items)\n",
    "    for row in fq_list[1:-1]:\n",
    "        combinations.append([])\n",
    "        for item in row:\n",
    "            if len(item) == len(item - itemset):\n",
    "                combinations[-1].append(item)\n",
    "    return combinations"
   ]
  },
  {
   "cell_type": "code",
   "execution_count": 16,
   "metadata": {},
   "outputs": [],
   "source": [
    "def combination_num(cmd_2, items, fq_list):\n",
    "    \"\"\"\n",
    "    Input:\n",
    "        cmd_2: int, target number\n",
    "        items: list of string. Each element in list represent an itemset\n",
    "        fq_list: a two dimension list of the frozenset of itemsets.\n",
    "    Output:\n",
    "        combinations: a list of frozenset. \n",
    "    \"\"\"\n",
    "    layer = int(cmd_2)\n",
    "    combinations = []\n",
    "    itemsets = item_combinations(items)[layer - 1]\n",
    "    non_itemsets = [(frozenset(items) - item) for item in itemsets]\n",
    "    for item in non_itemsets:\n",
    "        sub_all = combination_none([i for i in item], fq_list)\n",
    "        check = frozenset(items) - item\n",
    "        row = []\n",
    "        for i in sub_all:\n",
    "            for j in i:\n",
    "                if check.issubset(j):\n",
    "                    row.append(j)\n",
    "        combinations.append(row)\n",
    "    return combinations"
   ]
  },
  {
   "cell_type": "code",
   "execution_count": 17,
   "metadata": {},
   "outputs": [],
   "source": [
    "def head_body_num_dic(cmd_1, cmd_2, items, rule_any_dic):\n",
    "    \"\"\"\n",
    "    Purpose:\n",
    "        use the rule_any_dic to generated the association rules which has limited \n",
    "        number on HEAD or BODY\n",
    "    Input:\n",
    "        cmd_1: String, command 1\n",
    "        cmd_2: String or int, used to limited number of itemsets in HEAD or BODY\n",
    "        items: list of string. Each element in list represent an itemset\n",
    "        rule_any_dic: dictionary, Key is the frozenset of itemsets , value is \n",
    "                      the confidence. \n",
    "    Output:\n",
    "        res: dictionary, Key is the frozenset of itemsets , value is the confidence.\n",
    "    \"\"\"\n",
    "    res = {}\n",
    "    index = 0\n",
    "    num = int(cmd_2)\n",
    "    if cmd_1 == \"HEAD\": index = 0\n",
    "    elif cmd_1 == \"BODY\": index = 1\n",
    "    check = frozenset(items)\n",
    "    for k, v in rule_any_dic.items():\n",
    "        if len(check - k[index]) == len(check) - num :\n",
    "            res[k] = v\n",
    "    return res;"
   ]
  },
  {
   "cell_type": "code",
   "execution_count": 18,
   "metadata": {},
   "outputs": [],
   "source": [
    "def head_body_any_dic(cmd_1, items, rule_any_dic):\n",
    "    \"\"\"\n",
    "    Purpose:\n",
    "        use the rule_any_dic to generated the association rules which has any number of \n",
    "        items on HEAD or BODY\n",
    "    \"\"\"\n",
    "    res = {}\n",
    "    index = 0\n",
    "    if cmd_1 == \"HEAD\": index = 0\n",
    "    elif cmd_1 == \"BODY\": index = 1\n",
    "    check = frozenset(items)\n",
    "    for k, v in rule_any_dic.items():\n",
    "        if len(k[index] - check) != len(k[index]):\n",
    "            res[k] = v\n",
    "    return res;\n",
    "            "
   ]
  },
  {
   "cell_type": "code",
   "execution_count": 19,
   "metadata": {},
   "outputs": [],
   "source": [
    "def head_body_none_from_rule_any(cmd_1, items, rule_any_dic):\n",
    "    \"\"\"\n",
    "    Purpose:\n",
    "        use the rule_any_dic to generated the association rules which has none of \n",
    "        items on HEAD or BODY\n",
    "    \"\"\"\n",
    "    res = {}\n",
    "    index = 0\n",
    "    if cmd_1 == \"HEAD\": index = 0\n",
    "    elif cmd_1 == \"BODY\": index = 1\n",
    "    check = frozenset(items)\n",
    "    for k, v in rule_any_dic.items():\n",
    "        if len(k[index] - check) == len(k[index]):\n",
    "            res[k] = v\n",
    "    return res;\n",
    "            "
   ]
  },
  {
   "cell_type": "code",
   "execution_count": 20,
   "metadata": {},
   "outputs": [],
   "source": [
    "def print_dic(dic):\n",
    "    for k, v in dic.items():\n",
    "        print(k[0],\"-->\",k[1],\" : \", v)"
   ]
  },
  {
   "cell_type": "code",
   "execution_count": 21,
   "metadata": {},
   "outputs": [],
   "source": [
    "def template1(cmd_1, cmd_2, items, min_conf, record, fq_list):\n",
    "    \"\"\"\n",
    "    Purpose:\n",
    "        mining association rules by given query from template1\n",
    "    Input :\n",
    "        cmd_1: string\n",
    "        cmd_2: string\n",
    "        items: list of string. Each element in list represent an itemset\n",
    "        min_conf: float, the minimum confidence\n",
    "        record: dictionary, Key is the frozenset of itemsets , value is the support\n",
    "        fq_list: a two dimension list of the frozenset of itemsets.\n",
    "    Output :\n",
    "        res: dictionary, Key is the frozenset of itemsets , value is the confidence\n",
    "    \"\"\"\n",
    "    \n",
    "    res = {}\n",
    "    if cmd_1 == \"RULE\":\n",
    "        if cmd_2 == \"ANY\":\n",
    "            combinations = combination_any(items, fq_list)\n",
    "            get_rule(combinations, min_conf, record, res)\n",
    "        elif cmd_2 == \"NONE\":\n",
    "            combinations = combination_none(items, fq_list)\n",
    "            get_rule(combinations, min_conf, record, res)\n",
    "        else:\n",
    "            combinations = combination_num(cmd_2, items, fq_list)\n",
    "            get_rule(combinations, min_conf, record, res)\n",
    "    elif cmd_1 == \"HEAD\":\n",
    "        if cmd_2 == \"ANY\":\n",
    "            rule_any_dic = template1(\"RULE\", \"ANY\", items, min_conf, record, fq_list)\n",
    "            res = head_body_any_dic(cmd_1, items, rule_any_dic)\n",
    "        elif cmd_2 == \"NONE\" : \n",
    "            rule_any_dic = template1(\"RULE\", \"ANY\", items, min_conf, record, fq_list)\n",
    "            rule_none_dic = template1(\"RULE\", \"NONE\", items, min_conf, record, fq_list)\n",
    "            dic_1 = head_body_none_from_rule_any(cmd_1, items, rule_any_dic)\n",
    "            res = {**dic_1, **rule_none_dic}\n",
    "        else :\n",
    "            rule_any_dic = template1(\"RULE\", \"ANY\", items, min_conf, record, fq_list)\n",
    "            res = head_body_num_dic(cmd_1, cmd_2, items, rule_any_dic)        \n",
    "    elif cmd_1 == \"BODY\" :\n",
    "        if cmd_2 == \"ANY\" :\n",
    "            rule_any_dic = template1(\"RULE\", \"ANY\", items, min_conf, record, fq_list)\n",
    "            res = head_body_any_dic(cmd_1, items, rule_any_dic)\n",
    "        elif cmd_2 == \"NONE\" : \n",
    "            rule_any_dic = template1(\"RULE\", \"ANY\", items, min_conf, record, fq_list)\n",
    "            rule_none_dic = template1(\"RULE\", \"NONE\", items, min_conf, record, fq_list)\n",
    "            dic_1 = head_body_none_from_rule_any(cmd_1, items, rule_any_dic)\n",
    "            res = {**dic_1, **rule_none_dic}\n",
    "        else :\n",
    "            rule_any_dic = template1(\"RULE\", \"ANY\", items, min_conf, record, fq_list)\n",
    "            res = head_body_num_dic(cmd_1, cmd_2, items, rule_any_dic)\n",
    "    \n",
    "    return res"
   ]
  },
  {
   "cell_type": "markdown",
   "metadata": {},
   "source": [
    "### template2"
   ]
  },
  {
   "cell_type": "code",
   "execution_count": 22,
   "metadata": {},
   "outputs": [],
   "source": [
    "def template2(cmd_1, cmd_2, min_conf, record, fq_list):\n",
    "    res = {}\n",
    "    num = int(cmd_2)\n",
    "    combinations_list = []\n",
    "    for item in fq_list[num - 1]:\n",
    "        combinations_list.append([i for i in item])\n",
    "    if cmd_1 == \"RULE\":\n",
    "        for combinations in combinations_list:\n",
    "            res = {**res, **template1(cmd_1, cmd_2, combinations, min_conf, record, fq_list)}\n",
    "    elif cmd_1 == \"HEAD\":\n",
    "        for combinations in combinations_list:\n",
    "            res = {**res, **template1(cmd_1, cmd_2, combinations, min_conf, record, fq_list)}\n",
    "    elif cmd_1 == \"BODY\":\n",
    "        for combinations in combinations_list:\n",
    "            res = {**res, **template1(cmd_1, cmd_2, combinations, min_conf, record, fq_list)}\n",
    "    else:\n",
    "        print(\"RULE|HEAD|BODY\")\n",
    "    return res"
   ]
  },
  {
   "cell_type": "markdown",
   "metadata": {},
   "source": [
    "### Template3"
   ]
  },
  {
   "cell_type": "code",
   "execution_count": 23,
   "metadata": {},
   "outputs": [],
   "source": [
    "def template3(cmd, *cmds):\n",
    "    res = {}\n",
    "    if cmd == \"1or1\" or cmd == \"1and1\":\n",
    "        cmd1_1, cmd1_2, items1, cmd2_1, cmd2_2, items2, min_conf, record, fq_list = cmds\n",
    "        dic1 = template1(cmd1_1, cmd1_2, items1, min_conf, record, fq_list)\n",
    "        dic2 = template1(cmd2_1, cmd2_2, items2, min_conf, record, fq_list)\n",
    "        if cmd == \"1or1\":\n",
    "            res ={**dic1, **dic2}\n",
    "        else :\n",
    "            for k, v in dic1.items():\n",
    "                if k in dic2:\n",
    "                    res[k] = v\n",
    "    elif cmd == \"1or2\" or cmd == \"1and2\":\n",
    "        cmd1_1, cmd1_2, items1, cmd2_1, cmd2_2, min_conf, record, fq_list = cmds\n",
    "        dic1 = template1(cmd1_1, cmd1_2, items1, min_conf, record, fq_list)\n",
    "        dic2 = template2(cmd2_1, cmd2_2, min_conf, record, fq_list)\n",
    "        if cmd == \"1or2\":\n",
    "            res = {**dic1, **dic2}\n",
    "        else :\n",
    "            for k, v in dic1.items():\n",
    "                if k in dic2:\n",
    "                    res[k] = v\n",
    "    elif cmd == \"2or2\" or cmd == \"2and2\" :\n",
    "        cmd1_1, cmd1_2, cmd2_1, cmd2_2, min_conf, record, fq_list = cmds\n",
    "        dic1 = template2(cmd1_1, cmd1_2, min_conf, record, fq_list)\n",
    "        dic2 = template2(cmd2_1, cmd2_2, min_conf, record, fq_list)\n",
    "        if cmd == \"2or2\":\n",
    "            res = {**dic1, **dic2}\n",
    "        else :\n",
    "            for k, v in dic1.items():\n",
    "                if k in dic2:\n",
    "                    res[k] = v\n",
    "    return res"
   ]
  },
  {
   "cell_type": "markdown",
   "metadata": {},
   "source": [
    "# PART 1 RESULT"
   ]
  },
  {
   "cell_type": "code",
   "execution_count": 22,
   "metadata": {},
   "outputs": [],
   "source": [
    "fq_list, record = apriori('../data/associationruletestdata.txt', 0.5)"
   ]
  },
  {
   "cell_type": "code",
   "execution_count": 24,
   "metadata": {},
   "outputs": [],
   "source": [
    "f_30 = \"../data/support_\" + str(30) + \".p\"\n",
    "f_40 = \"../data/support_\" + str(40) + \".p\"\n",
    "f_50 = \"../data/support_\" + str(50) + \".p\"\n",
    "f_60 = \"../data/support_\" + str(60) + \".p\"\n",
    "f_70 = \"../data/support_\" + str(70) + \".p\""
   ]
  },
  {
   "cell_type": "code",
   "execution_count": 25,
   "metadata": {},
   "outputs": [],
   "source": [
    "fq_list30, record30 = pickle.load( open(f_30, \"rb\" ) )\n",
    "fq_list40, record40 = pickle.load( open(f_40, \"rb\" ) )\n",
    "fq_list50, record50 = pickle.load( open(f_50, \"rb\" ) )\n",
    "fq_list60, record60 = pickle.load( open(f_60, \"rb\" ) )\n",
    "fq_list70, record70 = pickle.load( open(f_70, \"rb\" ) )"
   ]
  },
  {
   "cell_type": "code",
   "execution_count": 27,
   "metadata": {},
   "outputs": [
    {
     "name": "stdout",
     "output_type": "stream",
     "text": [
      "Support is set to be 30.0%\n",
      "number of length-1 frequent itemsets: 194\n",
      "number of length-2 frequent itemsets: 5323\n",
      "number of length-3 frequent itemsets: 5251\n",
      "number of length-4 frequent itemsets: 1463\n",
      "number of length-5 frequent itemsets: 388\n",
      "number of length-6 frequent itemsets: 61\n",
      "number of length-7 frequent itemsets: 3\n",
      "number of all lengths frequent itemsets: 12683\n"
     ]
    }
   ],
   "source": [
    "count(fq_list30, 0.3)"
   ]
  },
  {
   "cell_type": "code",
   "execution_count": 28,
   "metadata": {},
   "outputs": [
    {
     "name": "stdout",
     "output_type": "stream",
     "text": [
      "Support is set to be 40.0%\n",
      "number of length-1 frequent itemsets: 167\n",
      "number of length-2 frequent itemsets: 753\n",
      "number of length-3 frequent itemsets: 149\n",
      "number of length-4 frequent itemsets: 7\n",
      "number of length-5 frequent itemsets: 1\n",
      "number of all lengths frequent itemsets: 1077\n"
     ]
    }
   ],
   "source": [
    "count(fq_list40, 0.4)"
   ]
  },
  {
   "cell_type": "code",
   "execution_count": 29,
   "metadata": {},
   "outputs": [
    {
     "name": "stdout",
     "output_type": "stream",
     "text": [
      "Support is set to be 50.0%\n",
      "number of length-1 frequent itemsets: 109\n",
      "number of length-2 frequent itemsets: 63\n",
      "number of length-3 frequent itemsets: 2\n",
      "number of all lengths frequent itemsets: 174\n"
     ]
    }
   ],
   "source": [
    "count(fq_list50, 0.5)"
   ]
  },
  {
   "cell_type": "code",
   "execution_count": 30,
   "metadata": {
    "scrolled": true
   },
   "outputs": [
    {
     "name": "stdout",
     "output_type": "stream",
     "text": [
      "Support is set to be 60.0%\n",
      "number of length-1 frequent itemsets: 34\n",
      "number of length-2 frequent itemsets: 2\n",
      "number of all lengths frequent itemsets: 36\n"
     ]
    }
   ],
   "source": [
    "count(fq_list60, 0.6)"
   ]
  },
  {
   "cell_type": "code",
   "execution_count": 31,
   "metadata": {
    "scrolled": false
   },
   "outputs": [
    {
     "name": "stdout",
     "output_type": "stream",
     "text": [
      "Support is set to be 70.0%\n",
      "number of length-1 frequent itemsets: 7\n",
      "number of all lengths frequent itemsets: 7\n"
     ]
    }
   ],
   "source": [
    "count(fq_list70, 0.7)"
   ]
  },
  {
   "cell_type": "markdown",
   "metadata": {},
   "source": [
    "# Part2 Result"
   ]
  },
  {
   "cell_type": "code",
   "execution_count": 80,
   "metadata": {},
   "outputs": [],
   "source": [
    "fq_list50, record50 = pickle.load( open(f_50, \"rb\" ) )"
   ]
  },
  {
   "cell_type": "markdown",
   "metadata": {},
   "source": [
    "## template1 result"
   ]
  },
  {
   "cell_type": "code",
   "execution_count": 102,
   "metadata": {},
   "outputs": [
    {
     "name": "stdout",
     "output_type": "stream",
     "text": [
      "0\n"
     ]
    }
   ],
   "source": [
    "result11 = template1(\"RULE\", \"ANY\", ['G59_Up'], 0.7,record50, fq_list50)\n",
    "print(len(result11))"
   ]
  },
  {
   "cell_type": "code",
   "execution_count": 82,
   "metadata": {},
   "outputs": [
    {
     "name": "stdout",
     "output_type": "stream",
     "text": [
      "117\n"
     ]
    }
   ],
   "source": [
    "result12 = template1(\"RULE\", \"NONE\", ['G59_Up'], 0.7,record50, fq_list50)\n",
    "print(len(result12))"
   ]
  },
  {
   "cell_type": "code",
   "execution_count": 83,
   "metadata": {},
   "outputs": [
    {
     "name": "stdout",
     "output_type": "stream",
     "text": [
      "0\n"
     ]
    }
   ],
   "source": [
    "result13 = template1(\"RULE\", 1, ['G59_Up', 'G10_Down'], 0.7,record50, fq_list50)\n",
    "print(len(result13))"
   ]
  },
  {
   "cell_type": "code",
   "execution_count": 84,
   "metadata": {},
   "outputs": [
    {
     "name": "stdout",
     "output_type": "stream",
     "text": [
      "0\n"
     ]
    }
   ],
   "source": [
    "result14 = template1(\"HEAD\", \"ANY\", ['G59_Up'], 0.7,record50, fq_list50)\n",
    "print(len(result14))"
   ]
  },
  {
   "cell_type": "code",
   "execution_count": 85,
   "metadata": {},
   "outputs": [
    {
     "name": "stdout",
     "output_type": "stream",
     "text": [
      "117\n"
     ]
    }
   ],
   "source": [
    "result15 = template1(\"HEAD\", \"NONE\", ['G59_Up'], 0.7,record50, fq_list50)\n",
    "print(len(result15))"
   ]
  },
  {
   "cell_type": "code",
   "execution_count": 86,
   "metadata": {},
   "outputs": [
    {
     "name": "stdout",
     "output_type": "stream",
     "text": [
      "0\n"
     ]
    }
   ],
   "source": [
    "result16 = template1(\"HEAD\", \"1\", ['G59_Up', 'G10_Down'], 0.7,record50, fq_list50)\n",
    "print(len(result16))"
   ]
  },
  {
   "cell_type": "code",
   "execution_count": 87,
   "metadata": {},
   "outputs": [
    {
     "name": "stdout",
     "output_type": "stream",
     "text": [
      "0\n"
     ]
    }
   ],
   "source": [
    "result17 = template1(\"BODY\", \"ANY\", ['G59_Up'], 0.7,record50, fq_list50)\n",
    "print(len(result17))"
   ]
  },
  {
   "cell_type": "code",
   "execution_count": 88,
   "metadata": {},
   "outputs": [
    {
     "name": "stdout",
     "output_type": "stream",
     "text": [
      "117\n"
     ]
    }
   ],
   "source": [
    "result18 = template1(\"BODY\", \"NONE\", ['G59_Up'], 0.7,record50, fq_list50)\n",
    "print(len(result18))"
   ]
  },
  {
   "cell_type": "code",
   "execution_count": 89,
   "metadata": {},
   "outputs": [
    {
     "name": "stdout",
     "output_type": "stream",
     "text": [
      "0\n"
     ]
    }
   ],
   "source": [
    "result19 = template1(\"BODY\", \"1\", ['G59_Up', 'G10_Down'], 0.7,record50, fq_list50)\n",
    "print(len(result19))"
   ]
  },
  {
   "cell_type": "markdown",
   "metadata": {},
   "source": [
    "## template2 result"
   ]
  },
  {
   "cell_type": "code",
   "execution_count": 90,
   "metadata": {},
   "outputs": [
    {
     "name": "stdout",
     "output_type": "stream",
     "text": [
      "9\n"
     ]
    }
   ],
   "source": [
    "result21 = template2(\"RULE\", 3, 0.7, record50, fq_list50)\n",
    "print(len(result21))"
   ]
  },
  {
   "cell_type": "code",
   "execution_count": 91,
   "metadata": {},
   "outputs": [
    {
     "name": "stdout",
     "output_type": "stream",
     "text": [
      "6\n"
     ]
    }
   ],
   "source": [
    "result22 = template2(\"HEAD\", 2, 0.7, record50, fq_list50)\n",
    "print(len(result22))"
   ]
  },
  {
   "cell_type": "code",
   "execution_count": 92,
   "metadata": {},
   "outputs": [
    {
     "name": "stdout",
     "output_type": "stream",
     "text": [
      "117\n"
     ]
    }
   ],
   "source": [
    "result23 = template2(\"BODY\", 1, 0.7, record50, fq_list50)\n",
    "print(len(result23))"
   ]
  },
  {
   "cell_type": "code",
   "execution_count": 93,
   "metadata": {},
   "outputs": [],
   "source": [
    "result23 = template2(\"BODY\", 1, 0.7, record40, fq_list40)"
   ]
  },
  {
   "cell_type": "markdown",
   "metadata": {},
   "source": [
    "## template 3 result"
   ]
  },
  {
   "cell_type": "code",
   "execution_count": 94,
   "metadata": {},
   "outputs": [
    {
     "data": {
      "text/plain": [
       "0"
      ]
     },
     "execution_count": 94,
     "metadata": {},
     "output_type": "execute_result"
    }
   ],
   "source": [
    "result31 = template3(\"1or1\", \"HEAD\", \"ANY\", ['G10_Down'], \"BODY\", 1, ['G59_Up'], 0.7 ,record50, fq_list50)\n",
    "len(result31)"
   ]
  },
  {
   "cell_type": "code",
   "execution_count": 95,
   "metadata": {},
   "outputs": [
    {
     "data": {
      "text/plain": [
       "0"
      ]
     },
     "execution_count": 95,
     "metadata": {},
     "output_type": "execute_result"
    }
   ],
   "source": [
    "result32 = template3(\"1and1\", \"HEAD\", \"ANY\", ['G10_Down'], \"BODY\", 1, ['G59_Up'], 0.7 ,record50, fq_list50)\n",
    "len(result32)"
   ]
  },
  {
   "cell_type": "code",
   "execution_count": 96,
   "metadata": {},
   "outputs": [
    {
     "data": {
      "text/plain": [
       "3"
      ]
     },
     "execution_count": 96,
     "metadata": {},
     "output_type": "execute_result"
    }
   ],
   "source": [
    "result33 = template3(\"1or2\", \"HEAD\", \"ANY\", ['G10_Down'], \"BODY\", 2, 0.7 ,record50, fq_list50)\n",
    "len(result33)"
   ]
  },
  {
   "cell_type": "code",
   "execution_count": 97,
   "metadata": {
    "scrolled": true
   },
   "outputs": [
    {
     "data": {
      "text/plain": [
       "0"
      ]
     },
     "execution_count": 97,
     "metadata": {},
     "output_type": "execute_result"
    }
   ],
   "source": [
    "result34 = template3(\"1and2\", \"HEAD\", \"ANY\", ['G10_Down'], \"BODY\", 2, 0.7 ,record50, fq_list50)\n",
    "len(result34)"
   ]
  },
  {
   "cell_type": "code",
   "execution_count": 98,
   "metadata": {
    "scrolled": true
   },
   "outputs": [
    {
     "data": {
      "text/plain": [
       "117"
      ]
     },
     "execution_count": 98,
     "metadata": {},
     "output_type": "execute_result"
    }
   ],
   "source": [
    "result35 = template3(\"2or2\", \"HEAD\", 1, \"BODY\", 2, 0.7 ,record50, fq_list50)\n",
    "len(result35)"
   ]
  },
  {
   "cell_type": "code",
   "execution_count": 99,
   "metadata": {
    "scrolled": true
   },
   "outputs": [
    {
     "data": {
      "text/plain": [
       "3"
      ]
     },
     "execution_count": 99,
     "metadata": {},
     "output_type": "execute_result"
    }
   ],
   "source": [
    "result36 = template3(\"2and2\", \"HEAD\", 1, \"BODY\", 2, 0.7 ,record50, fq_list50)\n",
    "len(result36)"
   ]
  },
  {
   "cell_type": "code",
   "execution_count": null,
   "metadata": {},
   "outputs": [],
   "source": []
  }
 ],
 "metadata": {
  "kernelspec": {
   "display_name": "Python 3",
   "language": "python",
   "name": "python3"
  },
  "language_info": {
   "codemirror_mode": {
    "name": "ipython",
    "version": 3
   },
   "file_extension": ".py",
   "mimetype": "text/x-python",
   "name": "python",
   "nbconvert_exporter": "python",
   "pygments_lexer": "ipython3",
   "version": "3.6.4"
  }
 },
 "nbformat": 4,
 "nbformat_minor": 2
}
