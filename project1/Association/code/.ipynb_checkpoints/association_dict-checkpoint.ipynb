{
 "cells": [
  {
   "cell_type": "code",
   "execution_count": 6,
   "metadata": {},
   "outputs": [],
   "source": [
    "import numpy as np\n",
    "from io import StringIO"
   ]
  },
  {
   "cell_type": "code",
   "execution_count": 7,
   "metadata": {},
   "outputs": [],
   "source": [
    "def get_data(filename):\n",
    "    with open(filename) as f:\n",
    "        raw_data = np.genfromtxt(StringIO(f.read()), delimiter=\"\\t\",dtype='str')\n",
    "        data = raw_data[:,:-1]\n",
    "        label = raw_data[:,-1]\n",
    "    return data, label"
   ]
  },
  {
   "cell_type": "code",
   "execution_count": 8,
   "metadata": {},
   "outputs": [],
   "source": [
    "def pre_process(data):\n",
    "    for i in range(len(data)):\n",
    "        for j in range(len(data[i])):\n",
    "            data[i,j] = 'G' + str(j) + '_' + data[i,j]"
   ]
  },
  {
   "cell_type": "code",
   "execution_count": 9,
   "metadata": {},
   "outputs": [],
   "source": [
    "def get_C1(data):\n",
    "    res = set()\n",
    "    for row in data:\n",
    "        for item in row:\n",
    "            res.add(frozenset([item]))\n",
    "    return res"
   ]
  },
  {
   "cell_type": "code",
   "execution_count": 10,
   "metadata": {},
   "outputs": [],
   "source": [
    "def get_freqI(data, Ck, min_support):\n",
    "    N = data.shape[0]\n",
    "    Fq = []\n",
    "    UnFq = []\n",
    "    for item in Ck:\n",
    "        count = 0\n",
    "        for row in data:\n",
    "            if item.issubset(row):\n",
    "                count += 1\n",
    "        support = count / N\n",
    "        if support >= min_support:\n",
    "            Fq.append((item, support))\n",
    "        else:\n",
    "            UnFq.append((item,support))\n",
    "    return Fq, UnFq    "
   ]
  },
  {
   "cell_type": "code",
   "execution_count": 11,
   "metadata": {},
   "outputs": [],
   "source": [
    "def get_Ck(Fq):\n",
    "    C = [item[0] for item in Fq]\n",
    "    C_level = len(C[0])\n",
    "    C1 = set()\n",
    "    Ck = set()\n",
    "    \n",
    "    for item in C:\n",
    "        for elem in item:\n",
    "            C1.add(frozenset([elem]))\n",
    "        \n",
    "    for item in C:\n",
    "        for elem in C1:\n",
    "            check = item | elem\n",
    "            if(len(check) - C_level == 1):\n",
    "                Ck.add(check)\n",
    "            elif(len(check) - C_level > 1):\n",
    "                raise Exception(\"size increse more than 1\")\n",
    "    return Ck"
   ]
  },
  {
   "cell_type": "code",
   "execution_count": 12,
   "metadata": {},
   "outputs": [],
   "source": [
    "def eliminate_infeq(Ck, Ck_pre_unfq):\n",
    "    res = set()\n",
    "    for i in Ck:\n",
    "        for j in Ck_pre_unfq:\n",
    "            if j.issubset(i):\n",
    "                break\n",
    "        else:\n",
    "            res.add(i)\n",
    "    return res"
   ]
  },
  {
   "cell_type": "code",
   "execution_count": 13,
   "metadata": {},
   "outputs": [],
   "source": [
    "def apriori(filename, support=0.5):\n",
    "    data, label = get_data(filename)\n",
    "    pre_process(data)\n",
    "    C1 = get_C1(data)\n",
    "    fq_list = []\n",
    "    unfq_list = []\n",
    "    fq, unfq = get_freqI(data, C1, support)\n",
    "    fq_list.append(fq)\n",
    "    unfq_list.append(unfq)\n",
    "    while len(fq_list[-1]) != 0:\n",
    "        Ck = get_Ck(fq_list[-1])\n",
    "        Ck = eliminate_infeq(Ck, [item[0] for item in unfq_list[-1]])\n",
    "        fq, unfq = get_freqI(data, Ck, support)\n",
    "        fq_list.append(fq)\n",
    "        unfq_list.append(unfq)\n",
    "    return fq_list, unfq_list"
   ]
  },
  {
   "cell_type": "code",
   "execution_count": 14,
   "metadata": {},
   "outputs": [],
   "source": [
    "fq_list, unfq_list = apriori('../data/associationruletestdata.txt', 0.5)"
   ]
  },
  {
   "cell_type": "code",
   "execution_count": 15,
   "metadata": {},
   "outputs": [
    {
     "data": {
      "text/plain": [
       "[(frozenset({'G58_Up', 'G71_Up', 'G95_Down'}), 0.51),\n",
       " (frozenset({'G58_Up', 'G71_Up', 'G81_Down'}), 0.52)]"
      ]
     },
     "execution_count": 15,
     "metadata": {},
     "output_type": "execute_result"
    }
   ],
   "source": [
    "fq_list[2]"
   ]
  },
  {
   "cell_type": "code",
   "execution_count": 16,
   "metadata": {},
   "outputs": [
    {
     "data": {
      "text/plain": [
       "174"
      ]
     },
     "execution_count": 16,
     "metadata": {},
     "output_type": "execute_result"
    }
   ],
   "source": [
    "count = 0\n",
    "for row in fq_list:\n",
    "    count += len(row)\n",
    "count"
   ]
  },
  {
   "cell_type": "code",
   "execution_count": null,
   "metadata": {},
   "outputs": [],
   "source": []
  }
 ],
 "metadata": {
  "kernelspec": {
   "display_name": "Python 3",
   "language": "python",
   "name": "python3"
  },
  "language_info": {
   "codemirror_mode": {
    "name": "ipython",
    "version": 3
   },
   "file_extension": ".py",
   "mimetype": "text/x-python",
   "name": "python",
   "nbconvert_exporter": "python",
   "pygments_lexer": "ipython3",
   "version": "3.6.4"
  }
 },
 "nbformat": 4,
 "nbformat_minor": 2
}
