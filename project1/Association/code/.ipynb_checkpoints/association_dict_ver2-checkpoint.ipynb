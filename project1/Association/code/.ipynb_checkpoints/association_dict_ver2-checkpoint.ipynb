{
 "cells": [
  {
   "cell_type": "code",
   "execution_count": 3,
   "metadata": {},
   "outputs": [],
   "source": [
    "import numpy as np\n",
    "from io import StringIO\n",
    "from collections import deque"
   ]
  },
  {
   "cell_type": "markdown",
   "metadata": {},
   "source": [
    "## apriori "
   ]
  },
  {
   "cell_type": "code",
   "execution_count": 4,
   "metadata": {},
   "outputs": [],
   "source": [
    "def get_data(filename):\n",
    "    with open(filename) as f:\n",
    "        raw_data = np.genfromtxt(StringIO(f.read()), delimiter=\"\\t\",dtype='str')\n",
    "        data = raw_data[:,:-1]\n",
    "        label = raw_data[:,-1]\n",
    "    return data, label"
   ]
  },
  {
   "cell_type": "code",
   "execution_count": 5,
   "metadata": {},
   "outputs": [],
   "source": [
    "def pre_process(data):\n",
    "    for i in range(len(data)):\n",
    "        for j in range(len(data[i])):\n",
    "            data[i,j] = 'G' + str(j) + '_' + data[i,j]"
   ]
  },
  {
   "cell_type": "code",
   "execution_count": 6,
   "metadata": {},
   "outputs": [],
   "source": [
    "def get_C1(data):\n",
    "    res = set()\n",
    "    for row in data:\n",
    "        for item in row:\n",
    "            res.add(frozenset([item]))\n",
    "    return res"
   ]
  },
  {
   "cell_type": "code",
   "execution_count": 7,
   "metadata": {},
   "outputs": [],
   "source": [
    "def get_freqI(data, Ck, min_support, record):\n",
    "    N = data.shape[0]\n",
    "    Fq = []\n",
    "    UnFq = []\n",
    "    for item in Ck:\n",
    "        count = 0\n",
    "        for row in data:\n",
    "            if item.issubset(row):\n",
    "                count += 1\n",
    "        support = count / N\n",
    "        if support >= min_support:\n",
    "            Fq.append(item)\n",
    "        else:\n",
    "            UnFq.append(item)\n",
    "        record[item] = support\n",
    "    return Fq, UnFq    "
   ]
  },
  {
   "cell_type": "code",
   "execution_count": 8,
   "metadata": {},
   "outputs": [],
   "source": [
    "def get_Ck(Fq):\n",
    "    C = Fq\n",
    "    C_level = len(C[0])\n",
    "    C1 = set()\n",
    "    Ck = set()\n",
    "    \n",
    "    for item in C:\n",
    "        for elem in item:\n",
    "            C1.add(frozenset([elem]))\n",
    "        \n",
    "    for item in C:\n",
    "        for elem in C1:\n",
    "            check = item | elem\n",
    "            if(len(check) - C_level == 1):\n",
    "                Ck.add(check)\n",
    "    return Ck"
   ]
  },
  {
   "cell_type": "code",
   "execution_count": 9,
   "metadata": {},
   "outputs": [],
   "source": [
    "def eliminate_infeq(Ck, Ck_pre_unfq):\n",
    "    res = set()\n",
    "    for i in Ck:\n",
    "        for j in Ck_pre_unfq:\n",
    "            if j.issubset(i):\n",
    "                break\n",
    "        else:\n",
    "            res.add(i)\n",
    "    return res"
   ]
  },
  {
   "cell_type": "code",
   "execution_count": 10,
   "metadata": {},
   "outputs": [],
   "source": [
    "def apriori(filename, support=0.5):\n",
    "    data, label = get_data(filename)\n",
    "    pre_process(data)\n",
    "    record = {}\n",
    "    C1 = get_C1(data)\n",
    "    fq_list = []\n",
    "    fq, unfq = get_freqI(data, C1, support, record)\n",
    "    fq_list.append(fq)\n",
    "    while len(fq_list[-1]) != 0:\n",
    "        Ck = get_Ck(fq_list[-1])\n",
    "        Ck = eliminate_infeq(Ck, unfq)\n",
    "        fq, unfq = get_freqI(data, Ck, support, record)\n",
    "        fq_list.append(fq)\n",
    "    return fq_list, record"
   ]
  },
  {
   "cell_type": "markdown",
   "metadata": {},
   "source": [
    "## Association rule"
   ]
  },
  {
   "cell_type": "code",
   "execution_count": 11,
   "metadata": {},
   "outputs": [],
   "source": [
    "def rule_gen(itemset, record, min_conf, res):\n",
    "    queue = deque()\n",
    "    queue.append(itemset)\n",
    "    while len(queue) != 0:\n",
    "        item = queue.popleft()\n",
    "        conf = record[itemset] / record[item]\n",
    "        if  conf >= min_conf:\n",
    "            res[(item, itemset - item)] = conf\n",
    "            if(len(item) > 1):\n",
    "                c1 = [frozenset([elem]) for elem in item]\n",
    "                for elem in c1:\n",
    "                    queue.append(item - elem)\n",
    "    res.pop((itemset, frozenset()))\n",
    "    return res"
   ]
  },
  {
   "cell_type": "code",
   "execution_count": 12,
   "metadata": {},
   "outputs": [],
   "source": [
    "def count(fq_list, support) :\n",
    "    print(\"Support is set to be {}%\".format(support * 100))\n",
    "    for i in range(len(fq_list) - 1):\n",
    "        print(\"number of length-{} frequent itemsets: {}\".format(i, len(fq_list[i])))\n",
    "        "
   ]
  },
  {
   "cell_type": "code",
   "execution_count": 13,
   "metadata": {},
   "outputs": [],
   "source": [
    "def item_combinations(items):\n",
    "    res = []\n",
    "    res.append(get_C1([items]))\n",
    "    while len(res[-1]) != 0 :\n",
    "        Ck = get_Ck([i for i in res[-1]])\n",
    "        res.append(Ck)\n",
    "    return res[:-1]"
   ]
  },
  {
   "cell_type": "code",
   "execution_count": 14,
   "metadata": {},
   "outputs": [],
   "source": [
    "def combination_any(items, fq_list):\n",
    "    combinations = []\n",
    "    itemset = frozenset(items)\n",
    "    for row in fq_list[1:-1]:\n",
    "        combinations.append([])\n",
    "        for item in row:\n",
    "            if len(item) != len(item - itemset):\n",
    "                combinations[-1].append(item)\n",
    "    return combinations"
   ]
  },
  {
   "cell_type": "code",
   "execution_count": 15,
   "metadata": {},
   "outputs": [],
   "source": [
    "def combination_none(items, fq_list):\n",
    "    combinations = []\n",
    "    itemset = frozenset(items)\n",
    "    for row in fq_list[1:-1]:\n",
    "        combinations.append([])\n",
    "        for item in row:\n",
    "            if len(item) == len(item - itemset):\n",
    "                combinations[-1].append(item)\n",
    "    return combinations"
   ]
  },
  {
   "cell_type": "code",
   "execution_count": 16,
   "metadata": {},
   "outputs": [],
   "source": [
    "def combination_num(cmd_2, items, fq_list):\n",
    "    layer = int(cmd_2)\n",
    "    combinations = []\n",
    "    itemsets = item_combinations(items)[layer - 1]\n",
    "    non_itemsets = [(frozenset(items) - item) for item in itemsets]\n",
    "    for item in non_itemsets:\n",
    "        sub_all = combination_none([i for i in item], fq_list)\n",
    "        check = frozenset(items) - item\n",
    "        row = []\n",
    "        for i in sub_all:\n",
    "            for j in i:\n",
    "                if check.issubset(j):\n",
    "                    row.append(j)\n",
    "        combinations.append(row)\n",
    "    return combinations"
   ]
  },
  {
   "cell_type": "code",
   "execution_count": 17,
   "metadata": {},
   "outputs": [],
   "source": [
    "def get_rule(combinations, min_conf, res):\n",
    "    for row in combinations:\n",
    "        for elem in row:\n",
    "            rule_gen(elem, record, min_conf, res)"
   ]
  },
  {
   "cell_type": "code",
   "execution_count": 18,
   "metadata": {},
   "outputs": [],
   "source": [
    "def head_body_num_dic(cmd_1, cmd_2, items, rule_any_dic):\n",
    "    res = {}\n",
    "    index = 0\n",
    "    num = int(cmd_2)\n",
    "    if cmd_1 == \"HEAD\": index = 0\n",
    "    elif cmd_1 == \"BODY\": index = 1\n",
    "    check = frozenset(items)\n",
    "    for k, v in rule_any_dic.items():\n",
    "        if len(check - k[index]) == len(check) - num :\n",
    "            res[k] = v\n",
    "    return res;"
   ]
  },
  {
   "cell_type": "code",
   "execution_count": 19,
   "metadata": {},
   "outputs": [],
   "source": [
    "def head_body_any_dic(cmd_1, items, rule_any_dic):\n",
    "    res = {}\n",
    "    index = 0\n",
    "    if cmd_1 == \"HEAD\": index = 0\n",
    "    elif cmd_1 == \"BODY\": index = 1\n",
    "    check = frozenset(items)\n",
    "    for k, v in rule_any_dic.items():\n",
    "        if len(k[index] - check) != len(k[index]):\n",
    "            res[k] = v\n",
    "    return res;\n",
    "            "
   ]
  },
  {
   "cell_type": "code",
   "execution_count": 20,
   "metadata": {},
   "outputs": [],
   "source": [
    "def head_body_none_from_rule_any(cmd_1, items, rule_any_dic):\n",
    "    res = {}\n",
    "    index = 0\n",
    "    if cmd_1 == \"HEAD\": index = 0\n",
    "    elif cmd_1 == \"BODY\": index = 1\n",
    "    check = frozenset(items)\n",
    "    for k, v in rule_any_dic.items():\n",
    "        if len(k[index] - check) == len(k[index]):\n",
    "            res[k] = v\n",
    "    return res;\n",
    "            "
   ]
  },
  {
   "cell_type": "code",
   "execution_count": 21,
   "metadata": {},
   "outputs": [],
   "source": [
    "def template1(cmd_1, cmd_2, items, min_conf, record, fq_list):\n",
    "    res = {}\n",
    "    if cmd_1 == \"RULE\":\n",
    "        if cmd_2 == \"ANY\":\n",
    "            combinations = combination_any(items, fq_list)\n",
    "            get_rule(combinations, min_conf, res)\n",
    "        elif cmd_2 == \"NONE\":\n",
    "            combinations = combination_none(items, fq_list)\n",
    "            get_rule(combinations, min_conf, res)\n",
    "        else:\n",
    "            combinations = combination_num(cmd_2, items, fq_list)\n",
    "            get_rule(combinations, min_conf, res)\n",
    "    elif cmd_1 == \"HEAD\":\n",
    "        if cmd_2 == \"ANY\":\n",
    "            rule_any_dic = template1(\"RULE\", \"ANY\", items, min_conf, record, fq_list)\n",
    "            res = head_body_any_dic(cmd_1, items, rule_any_dic)\n",
    "        elif cmd_2 == \"NONE\" : \n",
    "            rule_any_dic = template1(\"RULE\", \"ANY\", items, min_conf, record, fq_list)\n",
    "            rule_none_dic = template1(\"RULE\", \"NONE\", items, min_conf, record, fq_list)\n",
    "            dic_1 = head_body_none_from_rule_any(cmd_1, items, rule_any_dic)\n",
    "            res = {**dic_1, **rule_none_dic}\n",
    "        else :\n",
    "            rule_any_dic = template1(\"RULE\", \"ANY\", items, min_conf, record, fq_list)\n",
    "            res = head_body_num_dic(cmd_1, cmd_2, items, rule_any_dic)        \n",
    "    elif cmd_1 == \"BODY\" :\n",
    "        if cmd_2 == \"ANY\" :\n",
    "            rule_any_dic = template1(\"RULE\", \"ANY\", items, min_conf, record, fq_list)\n",
    "            res = head_body_any_dic(cmd_1, items, rule_any_dic)\n",
    "        elif cmd_2 == \"NONE\" : \n",
    "            rule_any_dic = template1(\"RULE\", \"ANY\", items, min_conf, record, fq_list)\n",
    "            rule_none_dic = template1(\"RULE\", \"NONE\", items, min_conf, record, fq_list)\n",
    "            dic_1 = head_body_none_from_rule_any(cmd_1, items, rule_any_dic)\n",
    "            res = {**dic_1, **rule_none_dic}\n",
    "        else :\n",
    "            rule_any_dic = template1(\"RULE\", \"ANY\", items, min_conf, record, fq_list)\n",
    "            res = head_body_num_dic(cmd_1, cmd_2, items, rule_any_dic)\n",
    "            \n",
    "    return res"
   ]
  },
  {
   "cell_type": "markdown",
   "metadata": {},
   "source": [
    "### template2"
   ]
  },
  {
   "cell_type": "code",
   "execution_count": 48,
   "metadata": {},
   "outputs": [],
   "source": [
    "def template2(cmd_1, cmd_2, min_conf, record, fq_list):\n",
    "    res = {}\n",
    "    num = int(cmd_2)\n",
    "    combinations_list = []\n",
    "    for item in fq_list[num - 1]:\n",
    "        combinations_list.append([i for i in item])\n",
    "    if cmd_1 == \"RULE\":\n",
    "        for combinations in combinations_list:\n",
    "            res = {**res, **template1(cmd_1, cmd_2, combinations, min_conf, record, fq_list)}\n",
    "    elif cmd_1 == \"HEAD\":\n",
    "        for combinations in combinations_list:\n",
    "            res = {**res, **template1(cmd_1, cmd_2, combinations, min_conf, record, fq_list)}\n",
    "    elif cmd_1 == \"BODY\":\n",
    "        for combinations in combinations_list:\n",
    "            res = {**res, **template1(cmd_1, cmd_2, combinations, min_conf, record, fq_list)}\n",
    "    else:\n",
    "        print(\"RULE|HEAD|BODY\")\n",
    "    return res"
   ]
  },
  {
   "cell_type": "markdown",
   "metadata": {},
   "source": [
    "### Template3"
   ]
  },
  {
   "cell_type": "code",
   "execution_count": 83,
   "metadata": {},
   "outputs": [],
   "source": [
    "def template3(cmd, *cmds):\n",
    "    res = {}\n",
    "    if cmd == \"1or1\" or cmd == \"1and1\":\n",
    "        cmd1_1, cmd1_2, items1, cmd2_1, cmd2_2, items2, min_conf, record, fq_list = cmds\n",
    "        dic1 = template1(cmd1_1, cmd1_2, items1, min_conf, record, fq_list)\n",
    "        dic2 = template1(cmd2_1, cmd2_2, items2, min_conf, record, fq_list)\n",
    "        if cmd == \"1or1\":\n",
    "            res ={**dic1, **dic2}\n",
    "        else :\n",
    "            for k, v in dic1.items():\n",
    "                if k in dic2:\n",
    "                    res[k] = v\n",
    "    elif cmd == \"1or2\" or cmd == \"1and2\":\n",
    "        cmd1_1, cmd1_2, items1, cmd2_1, cmd2_2, min_conf, record, fq_list = cmds\n",
    "        dic1 = template1(cmd1_1, cmd1_2, items1, min_conf, record, fq_list)\n",
    "        dic2 = template2(cmd2_1, cmd2_2, min_conf, record, fq_list)\n",
    "        if cmd == \"1or2\":\n",
    "            res = {**dic1, **dic2}\n",
    "        else :\n",
    "            for k, v in dic1.items():\n",
    "                if k in dic2:\n",
    "                    res[k] = v\n",
    "    elif cmd == \"2or2\" or cmd == \"2and2\" :\n",
    "        cmd1_1, cmd1_2, cmd2_1, cmd2_2, min_conf, record, fq_list = cmds\n",
    "        dic1 = template2(cmd1_1, cmd1_2, min_conf, record, fq_list)\n",
    "        dic2 = template2(cmd2_1, cmd2_2, min_conf, record, fq_list)\n",
    "        if cmd == \"2or2\":\n",
    "            res = {**dic1, **dic2}\n",
    "        else :\n",
    "            for k, v in dic1.items():\n",
    "                if k in dic2:\n",
    "                    res[k] = v\n",
    "    return res"
   ]
  },
  {
   "cell_type": "code",
   "execution_count": null,
   "metadata": {},
   "outputs": [],
   "source": []
  },
  {
   "cell_type": "code",
   "execution_count": 26,
   "metadata": {},
   "outputs": [],
   "source": [
    "fq_list, record = apriori('../data/associationruletestdata.txt', 0.5)"
   ]
  },
  {
   "cell_type": "markdown",
   "metadata": {},
   "source": [
    "### Test"
   ]
  },
  {
   "cell_type": "code",
   "execution_count": 84,
   "metadata": {
    "scrolled": false
   },
   "outputs": [
    {
     "name": "stdout",
     "output_type": "stream",
     "text": [
      "frozenset({'G58_Up', 'G95_Down'}) --> frozenset({'G71_Up'})  :  0.8360655737704918\n",
      "frozenset({'G81_Down', 'G58_Up'}) --> frozenset({'G71_Up'})  :  0.912280701754386\n",
      "frozenset({'G71_Up', 'G95_Down'}) --> frozenset({'G58_Up'})  :  0.864406779661017\n",
      "frozenset({'G58_Up', 'G71_Up'}) --> frozenset({'G95_Down'})  :  0.8225806451612904\n",
      "frozenset({'G58_Up', 'G71_Up'}) --> frozenset({'G81_Down'})  :  0.8387096774193549\n",
      "frozenset({'G81_Down', 'G71_Up'}) --> frozenset({'G58_Up'})  :  0.8965517241379312\n",
      "frozenset({'G5_Up'}) --> frozenset({'G31_Down'})  :  0.7575757575757576\n",
      "frozenset({'G37_Down'}) --> frozenset({'G31_Down'})  :  0.726027397260274\n",
      "frozenset({'G27_Down'}) --> frozenset({'G31_Down'})  :  0.7042253521126761\n",
      "frozenset({'G87_Down'}) --> frozenset({'G40_Down'})  :  0.7323943661971831\n",
      "frozenset({'G27_Down'}) --> frozenset({'G40_Down'})  :  0.7183098591549296\n",
      "frozenset({'G87_Down'}) --> frozenset({'G7_Up'})  :  0.7183098591549296\n",
      "frozenset({'G95_Down'}) --> frozenset({'G58_Up'})  :  0.8591549295774649\n",
      "frozenset({'G86_Up'}) --> frozenset({'G58_Up'})  :  0.7611940298507462\n",
      "frozenset({'G87_Down'}) --> frozenset({'G58_Up'})  :  0.7746478873239437\n",
      "frozenset({'G81_Down'}) --> frozenset({'G58_Up'})  :  0.838235294117647\n",
      "frozenset({'G5_Up'}) --> frozenset({'G58_Up'})  :  0.7727272727272727\n",
      "frozenset({'G71_Up'}) --> frozenset({'G58_Up'})  :  0.8378378378378378\n",
      "frozenset({'G37_Down'}) --> frozenset({'G58_Up'})  :  0.726027397260274\n",
      "frozenset({'G12_Down'}) --> frozenset({'G58_Up'})  :  0.7941176470588235\n",
      "frozenset({'G27_Down'}) --> frozenset({'G58_Up'})  :  0.7183098591549296\n",
      "frozenset({'G9_Down'}) --> frozenset({'G58_Up'})  :  0.7142857142857143\n",
      "frozenset({'G31_Down'}) --> frozenset({'G58_Up'})  :  0.7647058823529411\n",
      "frozenset({'G0_Up'}) --> frozenset({'G58_Up'})  :  0.7681159420289856\n",
      "frozenset({'G95_Down'}) --> frozenset({'G58_Up', 'G71_Up'})  :  0.7183098591549296\n",
      "frozenset({'G71_Up'}) --> frozenset({'G81_Down', 'G58_Up'})  :  0.7027027027027027\n",
      "frozenset({'G81_Down'}) --> frozenset({'G58_Up', 'G71_Up'})  :  0.7647058823529411\n",
      "frozenset({'G27_Down'}) --> frozenset({'G86_Up'})  :  0.7323943661971831\n",
      "frozenset({'G87_Down'}) --> frozenset({'G86_Up'})  :  0.7605633802816902\n",
      "frozenset({'G23_Down'}) --> frozenset({'G53_Up'})  :  0.7936507936507936\n",
      "frozenset({'G0_Up'}) --> frozenset({'G53_Up'})  :  0.7246376811594204\n",
      "frozenset({'G87_Down'}) --> frozenset({'G53_Up'})  :  0.7323943661971831\n",
      "frozenset({'G31_Down'}) --> frozenset({'G5_Up'})  :  0.7352941176470588\n",
      "frozenset({'G12_Down'}) --> frozenset({'G5_Up'})  :  0.7352941176470588\n",
      "frozenset({'G27_Down'}) --> frozenset({'G5_Up'})  :  0.7042253521126761\n",
      "frozenset({'G69_Down'}) --> frozenset({'G9_Down'})  :  0.7575757575757576\n",
      "frozenset({'G87_Down'}) --> frozenset({'G9_Down'})  :  0.7323943661971831\n",
      "frozenset({'G46_Up'}) --> frozenset({'G9_Down'})  :  0.7727272727272727\n",
      "frozenset({'G37_Down'}) --> frozenset({'G9_Down'})  :  0.726027397260274\n",
      "frozenset({'G0_Up'}) --> frozenset({'G9_Down'})  :  0.7246376811594204\n",
      "frozenset({'G27_Down'}) --> frozenset({'G9_Down'})  :  0.7183098591549296\n",
      "frozenset({'G93_Up'}) --> frozenset({'G9_Down'})  :  0.8064516129032259\n",
      "frozenset({'G9_Down'}) --> frozenset({'G69_Down'})  :  0.7142857142857143\n",
      "frozenset({'G0_Up'}) --> frozenset({'G69_Down'})  :  0.7246376811594204\n",
      "frozenset({'G37_Down'}) --> frozenset({'G69_Down'})  :  0.7397260273972603\n",
      "frozenset({'G37_Down'}) --> frozenset({'G90_Up'})  :  0.726027397260274\n",
      "frozenset({'G53_Up'}) --> frozenset({'G23_Down'})  :  0.7462686567164178\n",
      "frozenset({'G87_Down'}) --> frozenset({'G23_Down'})  :  0.7042253521126761\n",
      "frozenset({'G9_Down'}) --> frozenset({'G93_Up'})  :  0.7142857142857143\n",
      "frozenset({'G27_Down'}) --> frozenset({'G46_Up'})  :  0.7183098591549296\n",
      "frozenset({'G9_Down'}) --> frozenset({'G46_Up'})  :  0.7285714285714286\n",
      "frozenset({'G37_Down'}) --> frozenset({'G46_Up'})  :  0.7397260273972603\n",
      "frozenset({'G87_Down'}) --> frozenset({'G27_Down'})  :  0.7323943661971831\n",
      "frozenset({'G46_Up'}) --> frozenset({'G27_Down'})  :  0.7727272727272727\n",
      "frozenset({'G86_Up'}) --> frozenset({'G27_Down'})  :  0.7761194029850746\n",
      "frozenset({'G51_Down'}) --> frozenset({'G27_Down'})  :  0.8\n",
      "frozenset({'G1_Down'}) --> frozenset({'G27_Down'})  :  0.7575757575757576\n",
      "frozenset({'G40_Down'}) --> frozenset({'G27_Down'})  :  0.796875\n",
      "frozenset({'G9_Down'}) --> frozenset({'G27_Down'})  :  0.7285714285714286\n",
      "frozenset({'G31_Down'}) --> frozenset({'G27_Down'})  :  0.7352941176470588\n",
      "frozenset({'G37_Down'}) --> frozenset({'G27_Down'})  :  0.7534246575342467\n",
      "frozenset({'G12_Down'}) --> frozenset({'G27_Down'})  :  0.7352941176470588\n",
      "frozenset({'G5_Up'}) --> frozenset({'G27_Down'})  :  0.7575757575757576\n",
      "frozenset({'G58_Up'}) --> frozenset({'G95_Down'})  :  0.8026315789473684\n",
      "frozenset({'G71_Up'}) --> frozenset({'G95_Down'})  :  0.7972972972972973\n",
      "frozenset({'G81_Down'}) --> frozenset({'G95_Down'})  :  0.7647058823529411\n",
      "frozenset({'G90_Up'}) --> frozenset({'G37_Down'})  :  0.8153846153846154\n",
      "frozenset({'G93_Up'}) --> frozenset({'G37_Down'})  :  0.8225806451612904\n",
      "frozenset({'G69_Down'}) --> frozenset({'G37_Down'})  :  0.8181818181818182\n",
      "frozenset({'G87_Down'}) --> frozenset({'G37_Down'})  :  0.7042253521126761\n",
      "frozenset({'G66_Up'}) --> frozenset({'G37_Down'})  :  0.8225806451612904\n",
      "frozenset({'G51_Down'}) --> frozenset({'G37_Down'})  :  0.8461538461538461\n",
      "frozenset({'G9_Down'}) --> frozenset({'G37_Down'})  :  0.7571428571428572\n",
      "frozenset({'G31_Down'}) --> frozenset({'G37_Down'})  :  0.7794117647058824\n",
      "frozenset({'G5_Up'}) --> frozenset({'G37_Down'})  :  0.7575757575757576\n",
      "frozenset({'G27_Down'}) --> frozenset({'G37_Down'})  :  0.7746478873239437\n",
      "frozenset({'G64_Down'}) --> frozenset({'G37_Down'})  :  0.819672131147541\n",
      "frozenset({'G1_Down'}) --> frozenset({'G37_Down'})  :  0.7575757575757576\n",
      "frozenset({'G46_Up'}) --> frozenset({'G37_Down'})  :  0.8181818181818182\n",
      "frozenset({'G40_Down'}) --> frozenset({'G37_Down'})  :  0.78125\n",
      "frozenset({'G0_Up'}) --> frozenset({'G37_Down'})  :  0.7826086956521741\n",
      "frozenset({'G0_Up'}) --> frozenset({'G66_Up'})  :  0.7246376811594204\n",
      "frozenset({'G81_Down'}) --> frozenset({'G12_Down'})  :  0.75\n",
      "frozenset({'G71_Up'}) --> frozenset({'G12_Down'})  :  0.7162162162162162\n",
      "frozenset({'G5_Up'}) --> frozenset({'G12_Down'})  :  0.7575757575757576\n",
      "frozenset({'G58_Up'}) --> frozenset({'G12_Down'})  :  0.7105263157894737\n",
      "frozenset({'G27_Down'}) --> frozenset({'G12_Down'})  :  0.7042253521126761\n",
      "frozenset({'G27_Down'}) --> frozenset({'G1_Down'})  :  0.7042253521126761\n",
      "frozenset({'G81_Down'}) --> frozenset({'G96_Down'})  :  0.75\n",
      "frozenset({'G12_Down'}) --> frozenset({'G81_Down'})  :  0.75\n",
      "frozenset({'G58_Up'}) --> frozenset({'G81_Down'})  :  0.7499999999999999\n",
      "frozenset({'G96_Down'}) --> frozenset({'G81_Down'})  :  0.8360655737704918\n",
      "frozenset({'G95_Down'}) --> frozenset({'G81_Down'})  :  0.7323943661971831\n",
      "frozenset({'G71_Up'}) --> frozenset({'G81_Down'})  :  0.7837837837837838\n",
      "frozenset({'G69_Down'}) --> frozenset({'G0_Up'})  :  0.7575757575757576\n",
      "frozenset({'G71_Up'}) --> frozenset({'G0_Up'})  :  0.7027027027027027\n",
      "frozenset({'G66_Up'}) --> frozenset({'G0_Up'})  :  0.8064516129032259\n",
      "frozenset({'G53_Up'}) --> frozenset({'G0_Up'})  :  0.7462686567164178\n",
      "frozenset({'G9_Down'}) --> frozenset({'G0_Up'})  :  0.7142857142857143\n",
      "frozenset({'G37_Down'}) --> frozenset({'G0_Up'})  :  0.7397260273972603\n",
      "frozenset({'G37_Down'}) --> frozenset({'G51_Down'})  :  0.7534246575342467\n",
      "frozenset({'G27_Down'}) --> frozenset({'G51_Down'})  :  0.7323943661971831\n",
      "frozenset({'G0_Up'}) --> frozenset({'G71_Up'})  :  0.7536231884057972\n",
      "frozenset({'G31_Down'}) --> frozenset({'G71_Up'})  :  0.7352941176470588\n",
      "frozenset({'G12_Down'}) --> frozenset({'G71_Up'})  :  0.7794117647058824\n",
      "frozenset({'G95_Down'}) --> frozenset({'G71_Up'})  :  0.8309859154929577\n",
      "frozenset({'G58_Up'}) --> frozenset({'G71_Up'})  :  0.8157894736842105\n",
      "frozenset({'G81_Down'}) --> frozenset({'G71_Up'})  :  0.8529411764705881\n",
      "frozenset({'G96_Down'}) --> frozenset({'G71_Up'})  :  0.8360655737704918\n",
      "frozenset({'G27_Down'}) --> frozenset({'G87_Down'})  :  0.7323943661971831\n",
      "frozenset({'G9_Down'}) --> frozenset({'G87_Down'})  :  0.7428571428571429\n",
      "frozenset({'G58_Up'}) --> frozenset({'G87_Down'})  :  0.7236842105263158\n",
      "frozenset({'G40_Down'}) --> frozenset({'G87_Down'})  :  0.8125\n",
      "frozenset({'G86_Up'}) --> frozenset({'G87_Down'})  :  0.8059701492537313\n",
      "frozenset({'G7_Up'}) --> frozenset({'G87_Down'})  :  0.7727272727272727\n",
      "frozenset({'G23_Down'}) --> frozenset({'G87_Down'})  :  0.7936507936507936\n",
      "frozenset({'G53_Up'}) --> frozenset({'G87_Down'})  :  0.7761194029850746\n"
     ]
    }
   ],
   "source": [
    "res_13 = template3(\"2or2\", \"HEAD\",\"2\", \"BODY\",\"1\", 0.7, record, fq_list)\n",
    "for k, v in res_13.items():\n",
    "    print(k[0],\"-->\",k[1],\" : \", v)"
   ]
  },
  {
   "cell_type": "code",
   "execution_count": 85,
   "metadata": {
    "scrolled": false
   },
   "outputs": [
    {
     "name": "stdout",
     "output_type": "stream",
     "text": [
      "frozenset({'G58_Up', 'G95_Down'}) --> frozenset({'G71_Up'})  :  0.8360655737704918\n",
      "frozenset({'G81_Down', 'G58_Up'}) --> frozenset({'G71_Up'})  :  0.912280701754386\n",
      "frozenset({'G71_Up', 'G95_Down'}) --> frozenset({'G58_Up'})  :  0.864406779661017\n",
      "frozenset({'G58_Up', 'G71_Up'}) --> frozenset({'G95_Down'})  :  0.8225806451612904\n",
      "frozenset({'G58_Up', 'G71_Up'}) --> frozenset({'G81_Down'})  :  0.8387096774193549\n",
      "frozenset({'G81_Down', 'G71_Up'}) --> frozenset({'G58_Up'})  :  0.8965517241379312\n"
     ]
    }
   ],
   "source": [
    "res_13 = template3(\"2and2\", \"HEAD\",\"2\", \"BODY\",\"1\", 0.7, record, fq_list)\n",
    "for k, v in res_13.items():\n",
    "    print(k[0],\"-->\",k[1],\" : \", v)"
   ]
  },
  {
   "cell_type": "code",
   "execution_count": 69,
   "metadata": {
    "scrolled": false
   },
   "outputs": [
    {
     "name": "stdout",
     "output_type": "stream",
     "text": [
      "frozenset({'G58_Up', 'G71_Up'}) --> frozenset({'G95_Down'})  :  0.8225806451612904\n",
      "frozenset({'G58_Up', 'G71_Up'}) --> frozenset({'G81_Down'})  :  0.8387096774193549\n"
     ]
    }
   ],
   "source": [
    "res_12 = template3(\"1and2\", \"HEAD\",\"2\",['G58_Up','G71_Up'], \"BODY\",\"1\", 0.7, record, fq_list)\n",
    "for k, v in res_12.items():\n",
    "    print(k[0],\"-->\",k[1],\" : \", v)"
   ]
  },
  {
   "cell_type": "code",
   "execution_count": 70,
   "metadata": {
    "scrolled": false
   },
   "outputs": [
    {
     "name": "stdout",
     "output_type": "stream",
     "text": [
      "frozenset({'G58_Up', 'G71_Up'}) --> frozenset({'G95_Down'})  :  0.8225806451612904\n",
      "frozenset({'G58_Up', 'G71_Up'}) --> frozenset({'G81_Down'})  :  0.8387096774193549\n",
      "frozenset({'G5_Up'}) --> frozenset({'G31_Down'})  :  0.7575757575757576\n",
      "frozenset({'G37_Down'}) --> frozenset({'G31_Down'})  :  0.726027397260274\n",
      "frozenset({'G27_Down'}) --> frozenset({'G31_Down'})  :  0.7042253521126761\n",
      "frozenset({'G87_Down'}) --> frozenset({'G40_Down'})  :  0.7323943661971831\n",
      "frozenset({'G27_Down'}) --> frozenset({'G40_Down'})  :  0.7183098591549296\n",
      "frozenset({'G87_Down'}) --> frozenset({'G7_Up'})  :  0.7183098591549296\n",
      "frozenset({'G95_Down'}) --> frozenset({'G58_Up'})  :  0.8591549295774649\n",
      "frozenset({'G86_Up'}) --> frozenset({'G58_Up'})  :  0.7611940298507462\n",
      "frozenset({'G87_Down'}) --> frozenset({'G58_Up'})  :  0.7746478873239437\n",
      "frozenset({'G81_Down'}) --> frozenset({'G58_Up'})  :  0.838235294117647\n",
      "frozenset({'G5_Up'}) --> frozenset({'G58_Up'})  :  0.7727272727272727\n",
      "frozenset({'G71_Up'}) --> frozenset({'G58_Up'})  :  0.8378378378378378\n",
      "frozenset({'G37_Down'}) --> frozenset({'G58_Up'})  :  0.726027397260274\n",
      "frozenset({'G12_Down'}) --> frozenset({'G58_Up'})  :  0.7941176470588235\n",
      "frozenset({'G27_Down'}) --> frozenset({'G58_Up'})  :  0.7183098591549296\n",
      "frozenset({'G9_Down'}) --> frozenset({'G58_Up'})  :  0.7142857142857143\n",
      "frozenset({'G31_Down'}) --> frozenset({'G58_Up'})  :  0.7647058823529411\n",
      "frozenset({'G0_Up'}) --> frozenset({'G58_Up'})  :  0.7681159420289856\n",
      "frozenset({'G71_Up', 'G95_Down'}) --> frozenset({'G58_Up'})  :  0.864406779661017\n",
      "frozenset({'G95_Down'}) --> frozenset({'G58_Up', 'G71_Up'})  :  0.7183098591549296\n",
      "frozenset({'G81_Down', 'G71_Up'}) --> frozenset({'G58_Up'})  :  0.8965517241379312\n",
      "frozenset({'G71_Up'}) --> frozenset({'G81_Down', 'G58_Up'})  :  0.7027027027027027\n",
      "frozenset({'G81_Down'}) --> frozenset({'G58_Up', 'G71_Up'})  :  0.7647058823529411\n",
      "frozenset({'G27_Down'}) --> frozenset({'G86_Up'})  :  0.7323943661971831\n",
      "frozenset({'G87_Down'}) --> frozenset({'G86_Up'})  :  0.7605633802816902\n",
      "frozenset({'G23_Down'}) --> frozenset({'G53_Up'})  :  0.7936507936507936\n",
      "frozenset({'G0_Up'}) --> frozenset({'G53_Up'})  :  0.7246376811594204\n",
      "frozenset({'G87_Down'}) --> frozenset({'G53_Up'})  :  0.7323943661971831\n",
      "frozenset({'G31_Down'}) --> frozenset({'G5_Up'})  :  0.7352941176470588\n",
      "frozenset({'G12_Down'}) --> frozenset({'G5_Up'})  :  0.7352941176470588\n",
      "frozenset({'G27_Down'}) --> frozenset({'G5_Up'})  :  0.7042253521126761\n",
      "frozenset({'G69_Down'}) --> frozenset({'G9_Down'})  :  0.7575757575757576\n",
      "frozenset({'G87_Down'}) --> frozenset({'G9_Down'})  :  0.7323943661971831\n",
      "frozenset({'G46_Up'}) --> frozenset({'G9_Down'})  :  0.7727272727272727\n",
      "frozenset({'G37_Down'}) --> frozenset({'G9_Down'})  :  0.726027397260274\n",
      "frozenset({'G0_Up'}) --> frozenset({'G9_Down'})  :  0.7246376811594204\n",
      "frozenset({'G27_Down'}) --> frozenset({'G9_Down'})  :  0.7183098591549296\n",
      "frozenset({'G93_Up'}) --> frozenset({'G9_Down'})  :  0.8064516129032259\n",
      "frozenset({'G9_Down'}) --> frozenset({'G69_Down'})  :  0.7142857142857143\n",
      "frozenset({'G0_Up'}) --> frozenset({'G69_Down'})  :  0.7246376811594204\n",
      "frozenset({'G37_Down'}) --> frozenset({'G69_Down'})  :  0.7397260273972603\n",
      "frozenset({'G37_Down'}) --> frozenset({'G90_Up'})  :  0.726027397260274\n",
      "frozenset({'G53_Up'}) --> frozenset({'G23_Down'})  :  0.7462686567164178\n",
      "frozenset({'G87_Down'}) --> frozenset({'G23_Down'})  :  0.7042253521126761\n",
      "frozenset({'G9_Down'}) --> frozenset({'G93_Up'})  :  0.7142857142857143\n",
      "frozenset({'G27_Down'}) --> frozenset({'G46_Up'})  :  0.7183098591549296\n",
      "frozenset({'G9_Down'}) --> frozenset({'G46_Up'})  :  0.7285714285714286\n",
      "frozenset({'G37_Down'}) --> frozenset({'G46_Up'})  :  0.7397260273972603\n",
      "frozenset({'G87_Down'}) --> frozenset({'G27_Down'})  :  0.7323943661971831\n",
      "frozenset({'G46_Up'}) --> frozenset({'G27_Down'})  :  0.7727272727272727\n",
      "frozenset({'G86_Up'}) --> frozenset({'G27_Down'})  :  0.7761194029850746\n",
      "frozenset({'G51_Down'}) --> frozenset({'G27_Down'})  :  0.8\n",
      "frozenset({'G1_Down'}) --> frozenset({'G27_Down'})  :  0.7575757575757576\n",
      "frozenset({'G40_Down'}) --> frozenset({'G27_Down'})  :  0.796875\n",
      "frozenset({'G9_Down'}) --> frozenset({'G27_Down'})  :  0.7285714285714286\n",
      "frozenset({'G31_Down'}) --> frozenset({'G27_Down'})  :  0.7352941176470588\n",
      "frozenset({'G37_Down'}) --> frozenset({'G27_Down'})  :  0.7534246575342467\n",
      "frozenset({'G12_Down'}) --> frozenset({'G27_Down'})  :  0.7352941176470588\n",
      "frozenset({'G5_Up'}) --> frozenset({'G27_Down'})  :  0.7575757575757576\n",
      "frozenset({'G58_Up'}) --> frozenset({'G95_Down'})  :  0.8026315789473684\n",
      "frozenset({'G71_Up'}) --> frozenset({'G95_Down'})  :  0.7972972972972973\n",
      "frozenset({'G81_Down'}) --> frozenset({'G95_Down'})  :  0.7647058823529411\n",
      "frozenset({'G90_Up'}) --> frozenset({'G37_Down'})  :  0.8153846153846154\n",
      "frozenset({'G93_Up'}) --> frozenset({'G37_Down'})  :  0.8225806451612904\n",
      "frozenset({'G69_Down'}) --> frozenset({'G37_Down'})  :  0.8181818181818182\n",
      "frozenset({'G87_Down'}) --> frozenset({'G37_Down'})  :  0.7042253521126761\n",
      "frozenset({'G66_Up'}) --> frozenset({'G37_Down'})  :  0.8225806451612904\n",
      "frozenset({'G51_Down'}) --> frozenset({'G37_Down'})  :  0.8461538461538461\n",
      "frozenset({'G9_Down'}) --> frozenset({'G37_Down'})  :  0.7571428571428572\n",
      "frozenset({'G31_Down'}) --> frozenset({'G37_Down'})  :  0.7794117647058824\n",
      "frozenset({'G5_Up'}) --> frozenset({'G37_Down'})  :  0.7575757575757576\n",
      "frozenset({'G27_Down'}) --> frozenset({'G37_Down'})  :  0.7746478873239437\n",
      "frozenset({'G64_Down'}) --> frozenset({'G37_Down'})  :  0.819672131147541\n",
      "frozenset({'G1_Down'}) --> frozenset({'G37_Down'})  :  0.7575757575757576\n",
      "frozenset({'G46_Up'}) --> frozenset({'G37_Down'})  :  0.8181818181818182\n",
      "frozenset({'G40_Down'}) --> frozenset({'G37_Down'})  :  0.78125\n",
      "frozenset({'G0_Up'}) --> frozenset({'G37_Down'})  :  0.7826086956521741\n",
      "frozenset({'G0_Up'}) --> frozenset({'G66_Up'})  :  0.7246376811594204\n",
      "frozenset({'G81_Down'}) --> frozenset({'G12_Down'})  :  0.75\n",
      "frozenset({'G71_Up'}) --> frozenset({'G12_Down'})  :  0.7162162162162162\n",
      "frozenset({'G5_Up'}) --> frozenset({'G12_Down'})  :  0.7575757575757576\n",
      "frozenset({'G58_Up'}) --> frozenset({'G12_Down'})  :  0.7105263157894737\n",
      "frozenset({'G27_Down'}) --> frozenset({'G12_Down'})  :  0.7042253521126761\n",
      "frozenset({'G27_Down'}) --> frozenset({'G1_Down'})  :  0.7042253521126761\n",
      "frozenset({'G81_Down'}) --> frozenset({'G96_Down'})  :  0.75\n",
      "frozenset({'G12_Down'}) --> frozenset({'G81_Down'})  :  0.75\n",
      "frozenset({'G58_Up'}) --> frozenset({'G81_Down'})  :  0.7499999999999999\n",
      "frozenset({'G96_Down'}) --> frozenset({'G81_Down'})  :  0.8360655737704918\n",
      "frozenset({'G95_Down'}) --> frozenset({'G81_Down'})  :  0.7323943661971831\n",
      "frozenset({'G71_Up'}) --> frozenset({'G81_Down'})  :  0.7837837837837838\n",
      "frozenset({'G69_Down'}) --> frozenset({'G0_Up'})  :  0.7575757575757576\n",
      "frozenset({'G71_Up'}) --> frozenset({'G0_Up'})  :  0.7027027027027027\n",
      "frozenset({'G66_Up'}) --> frozenset({'G0_Up'})  :  0.8064516129032259\n",
      "frozenset({'G53_Up'}) --> frozenset({'G0_Up'})  :  0.7462686567164178\n",
      "frozenset({'G9_Down'}) --> frozenset({'G0_Up'})  :  0.7142857142857143\n",
      "frozenset({'G37_Down'}) --> frozenset({'G0_Up'})  :  0.7397260273972603\n",
      "frozenset({'G37_Down'}) --> frozenset({'G51_Down'})  :  0.7534246575342467\n",
      "frozenset({'G27_Down'}) --> frozenset({'G51_Down'})  :  0.7323943661971831\n",
      "frozenset({'G0_Up'}) --> frozenset({'G71_Up'})  :  0.7536231884057972\n",
      "frozenset({'G31_Down'}) --> frozenset({'G71_Up'})  :  0.7352941176470588\n",
      "frozenset({'G12_Down'}) --> frozenset({'G71_Up'})  :  0.7794117647058824\n",
      "frozenset({'G95_Down'}) --> frozenset({'G71_Up'})  :  0.8309859154929577\n",
      "frozenset({'G58_Up'}) --> frozenset({'G71_Up'})  :  0.8157894736842105\n",
      "frozenset({'G81_Down'}) --> frozenset({'G71_Up'})  :  0.8529411764705881\n",
      "frozenset({'G96_Down'}) --> frozenset({'G71_Up'})  :  0.8360655737704918\n",
      "frozenset({'G58_Up', 'G95_Down'}) --> frozenset({'G71_Up'})  :  0.8360655737704918\n",
      "frozenset({'G81_Down', 'G58_Up'}) --> frozenset({'G71_Up'})  :  0.912280701754386\n",
      "frozenset({'G27_Down'}) --> frozenset({'G87_Down'})  :  0.7323943661971831\n",
      "frozenset({'G9_Down'}) --> frozenset({'G87_Down'})  :  0.7428571428571429\n",
      "frozenset({'G58_Up'}) --> frozenset({'G87_Down'})  :  0.7236842105263158\n",
      "frozenset({'G40_Down'}) --> frozenset({'G87_Down'})  :  0.8125\n",
      "frozenset({'G86_Up'}) --> frozenset({'G87_Down'})  :  0.8059701492537313\n",
      "frozenset({'G7_Up'}) --> frozenset({'G87_Down'})  :  0.7727272727272727\n",
      "frozenset({'G23_Down'}) --> frozenset({'G87_Down'})  :  0.7936507936507936\n",
      "frozenset({'G53_Up'}) --> frozenset({'G87_Down'})  :  0.7761194029850746\n"
     ]
    }
   ],
   "source": [
    "res_11 = template3(\"1or2\", \"HEAD\",\"2\",['G58_Up','G71_Up'], \"BODY\",\"1\", 0.7, record, fq_list)\n",
    "for k, v in res_11.items():\n",
    "    print(k[0],\"-->\",k[1],\" : \", v)"
   ]
  },
  {
   "cell_type": "code",
   "execution_count": 60,
   "metadata": {
    "scrolled": false
   },
   "outputs": [
    {
     "name": "stdout",
     "output_type": "stream",
     "text": [
      "frozenset({'G58_Up', 'G71_Up'}) --> frozenset({'G95_Down'})  :  0.8225806451612904\n",
      "frozenset({'G58_Up', 'G71_Up'}) --> frozenset({'G81_Down'})  :  0.8387096774193549\n",
      "frozenset({'G95_Down'}) --> frozenset({'G58_Up'})  :  0.8591549295774649\n",
      "frozenset({'G86_Up'}) --> frozenset({'G58_Up'})  :  0.7611940298507462\n",
      "frozenset({'G87_Down'}) --> frozenset({'G58_Up'})  :  0.7746478873239437\n",
      "frozenset({'G81_Down'}) --> frozenset({'G58_Up'})  :  0.838235294117647\n",
      "frozenset({'G5_Up'}) --> frozenset({'G58_Up'})  :  0.7727272727272727\n",
      "frozenset({'G71_Up'}) --> frozenset({'G58_Up'})  :  0.8378378378378378\n",
      "frozenset({'G37_Down'}) --> frozenset({'G58_Up'})  :  0.726027397260274\n",
      "frozenset({'G12_Down'}) --> frozenset({'G58_Up'})  :  0.7941176470588235\n",
      "frozenset({'G27_Down'}) --> frozenset({'G58_Up'})  :  0.7183098591549296\n",
      "frozenset({'G9_Down'}) --> frozenset({'G58_Up'})  :  0.7142857142857143\n",
      "frozenset({'G31_Down'}) --> frozenset({'G58_Up'})  :  0.7647058823529411\n",
      "frozenset({'G0_Up'}) --> frozenset({'G58_Up'})  :  0.7681159420289856\n",
      "frozenset({'G71_Up', 'G95_Down'}) --> frozenset({'G58_Up'})  :  0.864406779661017\n",
      "frozenset({'G95_Down'}) --> frozenset({'G58_Up', 'G71_Up'})  :  0.7183098591549296\n",
      "frozenset({'G81_Down', 'G71_Up'}) --> frozenset({'G58_Up'})  :  0.8965517241379312\n",
      "frozenset({'G71_Up'}) --> frozenset({'G81_Down', 'G58_Up'})  :  0.7027027027027027\n",
      "frozenset({'G81_Down'}) --> frozenset({'G58_Up', 'G71_Up'})  :  0.7647058823529411\n"
     ]
    }
   ],
   "source": [
    "res_10 = template3(\"1or1\", \"HEAD\",\"2\",['G58_Up','G71_Up'], \"BODY\",\"1\",['G58_Up'], 0.7, record, fq_list)\n",
    "for k, v in res_10.items():\n",
    "    print(k[0],\"-->\",k[1],\" : \", v)"
   ]
  },
  {
   "cell_type": "code",
   "execution_count": 67,
   "metadata": {
    "scrolled": false
   },
   "outputs": [
    {
     "name": "stdout",
     "output_type": "stream",
     "text": [
      "frozenset({'G58_Up'}) --> frozenset({'G81_Down'})  :  0.7499999999999999\n",
      "frozenset({'G71_Up'}) --> frozenset({'G81_Down'})  :  0.7837837837837838\n",
      "frozenset({'G58_Up', 'G71_Up'}) --> frozenset({'G81_Down'})  :  0.8387096774193549\n",
      "frozenset({'G71_Up'}) --> frozenset({'G81_Down', 'G58_Up'})  :  0.7027027027027027\n"
     ]
    }
   ],
   "source": [
    "res_10 = template3(\"1and1\", \"HEAD\",\"ANY\",['G58_Up','G71_Up'], \"BODY\",\"1\",['G81_Down'], 0.7, record, fq_list)\n",
    "for k, v in res_10.items():\n",
    "    print(k[0],\"-->\",k[1],\" : \", v)"
   ]
  },
  {
   "cell_type": "code",
   "execution_count": 39,
   "metadata": {
    "scrolled": false
   },
   "outputs": [
    {
     "name": "stdout",
     "output_type": "stream",
     "text": [
      "frozenset({'G58_Up', 'G71_Up'}) --> frozenset({'G95_Down'})  :  0.8225806451612904\n",
      "frozenset({'G58_Up', 'G71_Up'}) --> frozenset({'G81_Down'})  :  0.8387096774193549\n"
     ]
    }
   ],
   "source": [
    "res_9 = template1(\"HEAD\",\"2\",['G58_Up','G71_Up'], 0.7, record, fq_list)\n",
    "for k, v in res_9.items():\n",
    "    print(k[0],\"-->\",k[1],\" : \", v)"
   ]
  },
  {
   "cell_type": "code",
   "execution_count": 49,
   "metadata": {},
   "outputs": [
    {
     "data": {
      "text/plain": [
       "{(frozenset({'G71_Up'}),\n",
       "  frozenset({'G58_Up', 'G81_Down'})): 0.7027027027027027,\n",
       " (frozenset({'G95_Down'}),\n",
       "  frozenset({'G58_Up', 'G71_Up'})): 0.7183098591549296,\n",
       " (frozenset({'G81_Down'}),\n",
       "  frozenset({'G58_Up', 'G71_Up'})): 0.7647058823529411}"
      ]
     },
     "execution_count": 49,
     "metadata": {},
     "output_type": "execute_result"
    }
   ],
   "source": [
    "template2(\"BODY\", \"2\", 0.7, record, fq_list)"
   ]
  },
  {
   "cell_type": "code",
   "execution_count": 37,
   "metadata": {},
   "outputs": [
    {
     "data": {
      "text/plain": [
       "{(frozenset({'G31_Down'}), frozenset({'G71_Up'})): 0.7352941176470588,\n",
       " (frozenset({'G5_Up'}), frozenset({'G31_Down'})): 0.7575757575757576,\n",
       " (frozenset({'G31_Down'}), frozenset({'G5_Up'})): 0.7352941176470588,\n",
       " (frozenset({'G31_Down'}), frozenset({'G37_Down'})): 0.7794117647058824,\n",
       " (frozenset({'G37_Down'}), frozenset({'G31_Down'})): 0.726027397260274,\n",
       " (frozenset({'G27_Down'}), frozenset({'G31_Down'})): 0.7042253521126761,\n",
       " (frozenset({'G31_Down'}), frozenset({'G27_Down'})): 0.7352941176470588,\n",
       " (frozenset({'G31_Down'}), frozenset({'G58_Up'})): 0.7647058823529411,\n",
       " (frozenset({'G40_Down'}), frozenset({'G87_Down'})): 0.8125,\n",
       " (frozenset({'G87_Down'}), frozenset({'G40_Down'})): 0.7323943661971831,\n",
       " (frozenset({'G40_Down'}), frozenset({'G27_Down'})): 0.796875,\n",
       " (frozenset({'G27_Down'}), frozenset({'G40_Down'})): 0.7183098591549296,\n",
       " (frozenset({'G40_Down'}), frozenset({'G37_Down'})): 0.78125,\n",
       " (frozenset({'G7_Up'}), frozenset({'G87_Down'})): 0.7727272727272727,\n",
       " (frozenset({'G87_Down'}), frozenset({'G7_Up'})): 0.7183098591549296,\n",
       " (frozenset({'G95_Down'}), frozenset({'G58_Up'})): 0.8591549295774649,\n",
       " (frozenset({'G58_Up'}), frozenset({'G95_Down'})): 0.8026315789473684,\n",
       " (frozenset({'G86_Up'}), frozenset({'G58_Up'})): 0.7611940298507462,\n",
       " (frozenset({'G87_Down'}), frozenset({'G58_Up'})): 0.7746478873239437,\n",
       " (frozenset({'G58_Up'}), frozenset({'G87_Down'})): 0.7236842105263158,\n",
       " (frozenset({'G58_Up'}), frozenset({'G81_Down'})): 0.7499999999999999,\n",
       " (frozenset({'G81_Down'}), frozenset({'G58_Up'})): 0.838235294117647,\n",
       " (frozenset({'G5_Up'}), frozenset({'G58_Up'})): 0.7727272727272727,\n",
       " (frozenset({'G71_Up'}), frozenset({'G58_Up'})): 0.8378378378378378,\n",
       " (frozenset({'G58_Up'}), frozenset({'G71_Up'})): 0.8157894736842105,\n",
       " (frozenset({'G37_Down'}), frozenset({'G58_Up'})): 0.726027397260274,\n",
       " (frozenset({'G12_Down'}), frozenset({'G58_Up'})): 0.7941176470588235,\n",
       " (frozenset({'G58_Up'}), frozenset({'G12_Down'})): 0.7105263157894737,\n",
       " (frozenset({'G27_Down'}), frozenset({'G58_Up'})): 0.7183098591549296,\n",
       " (frozenset({'G9_Down'}), frozenset({'G58_Up'})): 0.7142857142857143,\n",
       " (frozenset({'G0_Up'}), frozenset({'G58_Up'})): 0.7681159420289856,\n",
       " (frozenset({'G71_Up', 'G95_Down'}), frozenset({'G58_Up'})): 0.864406779661017,\n",
       " (frozenset({'G58_Up', 'G95_Down'}),\n",
       "  frozenset({'G71_Up'})): 0.8360655737704918,\n",
       " (frozenset({'G58_Up', 'G71_Up'}),\n",
       "  frozenset({'G95_Down'})): 0.8225806451612904,\n",
       " (frozenset({'G95_Down'}),\n",
       "  frozenset({'G58_Up', 'G71_Up'})): 0.7183098591549296,\n",
       " (frozenset({'G58_Up', 'G71_Up'}),\n",
       "  frozenset({'G81_Down'})): 0.8387096774193549,\n",
       " (frozenset({'G71_Up', 'G81_Down'}),\n",
       "  frozenset({'G58_Up'})): 0.8965517241379312,\n",
       " (frozenset({'G58_Up', 'G81_Down'}), frozenset({'G71_Up'})): 0.912280701754386,\n",
       " (frozenset({'G71_Up'}),\n",
       "  frozenset({'G58_Up', 'G81_Down'})): 0.7027027027027027,\n",
       " (frozenset({'G81_Down'}),\n",
       "  frozenset({'G58_Up', 'G71_Up'})): 0.7647058823529411,\n",
       " (frozenset({'G86_Up'}), frozenset({'G27_Down'})): 0.7761194029850746,\n",
       " (frozenset({'G27_Down'}), frozenset({'G86_Up'})): 0.7323943661971831,\n",
       " (frozenset({'G86_Up'}), frozenset({'G87_Down'})): 0.8059701492537313,\n",
       " (frozenset({'G87_Down'}), frozenset({'G86_Up'})): 0.7605633802816902,\n",
       " (frozenset({'G53_Up'}), frozenset({'G23_Down'})): 0.7462686567164178,\n",
       " (frozenset({'G23_Down'}), frozenset({'G53_Up'})): 0.7936507936507936,\n",
       " (frozenset({'G53_Up'}), frozenset({'G0_Up'})): 0.7462686567164178,\n",
       " (frozenset({'G0_Up'}), frozenset({'G53_Up'})): 0.7246376811594204,\n",
       " (frozenset({'G53_Up'}), frozenset({'G87_Down'})): 0.7761194029850746,\n",
       " (frozenset({'G87_Down'}), frozenset({'G53_Up'})): 0.7323943661971831,\n",
       " (frozenset({'G12_Down'}), frozenset({'G5_Up'})): 0.7352941176470588,\n",
       " (frozenset({'G5_Up'}), frozenset({'G12_Down'})): 0.7575757575757576,\n",
       " (frozenset({'G5_Up'}), frozenset({'G37_Down'})): 0.7575757575757576,\n",
       " (frozenset({'G27_Down'}), frozenset({'G5_Up'})): 0.7042253521126761,\n",
       " (frozenset({'G5_Up'}), frozenset({'G27_Down'})): 0.7575757575757576,\n",
       " (frozenset({'G9_Down'}), frozenset({'G69_Down'})): 0.7142857142857143,\n",
       " (frozenset({'G69_Down'}), frozenset({'G9_Down'})): 0.7575757575757576,\n",
       " (frozenset({'G9_Down'}), frozenset({'G87_Down'})): 0.7428571428571429,\n",
       " (frozenset({'G87_Down'}), frozenset({'G9_Down'})): 0.7323943661971831,\n",
       " (frozenset({'G9_Down'}), frozenset({'G46_Up'})): 0.7285714285714286,\n",
       " (frozenset({'G46_Up'}), frozenset({'G9_Down'})): 0.7727272727272727,\n",
       " (frozenset({'G9_Down'}), frozenset({'G37_Down'})): 0.7571428571428572,\n",
       " (frozenset({'G37_Down'}), frozenset({'G9_Down'})): 0.726027397260274,\n",
       " (frozenset({'G0_Up'}), frozenset({'G9_Down'})): 0.7246376811594204,\n",
       " (frozenset({'G9_Down'}), frozenset({'G0_Up'})): 0.7142857142857143,\n",
       " (frozenset({'G27_Down'}), frozenset({'G9_Down'})): 0.7183098591549296,\n",
       " (frozenset({'G9_Down'}), frozenset({'G27_Down'})): 0.7285714285714286,\n",
       " (frozenset({'G93_Up'}), frozenset({'G9_Down'})): 0.8064516129032259,\n",
       " (frozenset({'G9_Down'}), frozenset({'G93_Up'})): 0.7142857142857143,\n",
       " (frozenset({'G0_Up'}), frozenset({'G69_Down'})): 0.7246376811594204,\n",
       " (frozenset({'G69_Down'}), frozenset({'G0_Up'})): 0.7575757575757576,\n",
       " (frozenset({'G69_Down'}), frozenset({'G37_Down'})): 0.8181818181818182,\n",
       " (frozenset({'G37_Down'}), frozenset({'G69_Down'})): 0.7397260273972603,\n",
       " (frozenset({'G90_Up'}), frozenset({'G37_Down'})): 0.8153846153846154,\n",
       " (frozenset({'G37_Down'}), frozenset({'G90_Up'})): 0.726027397260274,\n",
       " (frozenset({'G23_Down'}), frozenset({'G87_Down'})): 0.7936507936507936,\n",
       " (frozenset({'G87_Down'}), frozenset({'G23_Down'})): 0.7042253521126761,\n",
       " (frozenset({'G93_Up'}), frozenset({'G37_Down'})): 0.8225806451612904,\n",
       " (frozenset({'G27_Down'}), frozenset({'G46_Up'})): 0.7183098591549296,\n",
       " (frozenset({'G46_Up'}), frozenset({'G27_Down'})): 0.7727272727272727,\n",
       " (frozenset({'G46_Up'}), frozenset({'G37_Down'})): 0.8181818181818182,\n",
       " (frozenset({'G37_Down'}), frozenset({'G46_Up'})): 0.7397260273972603,\n",
       " (frozenset({'G27_Down'}), frozenset({'G87_Down'})): 0.7323943661971831,\n",
       " (frozenset({'G87_Down'}), frozenset({'G27_Down'})): 0.7323943661971831,\n",
       " (frozenset({'G51_Down'}), frozenset({'G27_Down'})): 0.8,\n",
       " (frozenset({'G27_Down'}), frozenset({'G51_Down'})): 0.7323943661971831,\n",
       " (frozenset({'G1_Down'}), frozenset({'G27_Down'})): 0.7575757575757576,\n",
       " (frozenset({'G27_Down'}), frozenset({'G1_Down'})): 0.7042253521126761,\n",
       " (frozenset({'G27_Down'}), frozenset({'G37_Down'})): 0.7746478873239437,\n",
       " (frozenset({'G37_Down'}), frozenset({'G27_Down'})): 0.7534246575342467,\n",
       " (frozenset({'G12_Down'}), frozenset({'G27_Down'})): 0.7352941176470588,\n",
       " (frozenset({'G27_Down'}), frozenset({'G12_Down'})): 0.7042253521126761,\n",
       " (frozenset({'G95_Down'}), frozenset({'G71_Up'})): 0.8309859154929577,\n",
       " (frozenset({'G71_Up'}), frozenset({'G95_Down'})): 0.7972972972972973,\n",
       " (frozenset({'G95_Down'}), frozenset({'G81_Down'})): 0.7323943661971831,\n",
       " (frozenset({'G81_Down'}), frozenset({'G95_Down'})): 0.7647058823529411,\n",
       " (frozenset({'G87_Down'}), frozenset({'G37_Down'})): 0.7042253521126761,\n",
       " (frozenset({'G66_Up'}), frozenset({'G37_Down'})): 0.8225806451612904,\n",
       " (frozenset({'G51_Down'}), frozenset({'G37_Down'})): 0.8461538461538461,\n",
       " (frozenset({'G37_Down'}), frozenset({'G51_Down'})): 0.7534246575342467,\n",
       " (frozenset({'G64_Down'}), frozenset({'G37_Down'})): 0.819672131147541,\n",
       " (frozenset({'G1_Down'}), frozenset({'G37_Down'})): 0.7575757575757576,\n",
       " (frozenset({'G0_Up'}), frozenset({'G37_Down'})): 0.7826086956521741,\n",
       " (frozenset({'G37_Down'}), frozenset({'G0_Up'})): 0.7397260273972603,\n",
       " (frozenset({'G0_Up'}), frozenset({'G66_Up'})): 0.7246376811594204,\n",
       " (frozenset({'G66_Up'}), frozenset({'G0_Up'})): 0.8064516129032259,\n",
       " (frozenset({'G12_Down'}), frozenset({'G81_Down'})): 0.75,\n",
       " (frozenset({'G81_Down'}), frozenset({'G12_Down'})): 0.75,\n",
       " (frozenset({'G71_Up'}), frozenset({'G12_Down'})): 0.7162162162162162,\n",
       " (frozenset({'G12_Down'}), frozenset({'G71_Up'})): 0.7794117647058824,\n",
       " (frozenset({'G96_Down'}), frozenset({'G81_Down'})): 0.8360655737704918,\n",
       " (frozenset({'G81_Down'}), frozenset({'G96_Down'})): 0.75,\n",
       " (frozenset({'G96_Down'}), frozenset({'G71_Up'})): 0.8360655737704918,\n",
       " (frozenset({'G71_Up'}), frozenset({'G81_Down'})): 0.7837837837837838,\n",
       " (frozenset({'G81_Down'}), frozenset({'G71_Up'})): 0.8529411764705881,\n",
       " (frozenset({'G0_Up'}), frozenset({'G71_Up'})): 0.7536231884057972,\n",
       " (frozenset({'G71_Up'}), frozenset({'G0_Up'})): 0.7027027027027027}"
      ]
     },
     "execution_count": 37,
     "metadata": {},
     "output_type": "execute_result"
    }
   ],
   "source": [
    "template2(\"RULE\", \"1\", 0.7, record, fq_list)"
   ]
  },
  {
   "cell_type": "code",
   "execution_count": 52,
   "metadata": {},
   "outputs": [],
   "source": [
    "items = C1_from_fqList(fq_list)"
   ]
  },
  {
   "cell_type": "code",
   "execution_count": 56,
   "metadata": {},
   "outputs": [
    {
     "data": {
      "text/plain": [
       "[frozenset({'G58_Up', 'G71_Up', 'G81_Down'}),\n",
       " frozenset({'G58_Up', 'G71_Up', 'G95_Down'})]"
      ]
     },
     "execution_count": 56,
     "metadata": {},
     "output_type": "execute_result"
    }
   ],
   "source": [
    "fq_list[2]"
   ]
  },
  {
   "cell_type": "code",
   "execution_count": 54,
   "metadata": {},
   "outputs": [
    {
     "name": "stdout",
     "output_type": "stream",
     "text": [
      "frozenset({'G27_Down'}) --> frozenset({'G87_Down'})  :  0.7323943661971831\n",
      "frozenset({'G87_Down'}) --> frozenset({'G27_Down'})  :  0.7323943661971831\n",
      "frozenset({'G9_Down'}) --> frozenset({'G69_Down'})  :  0.7142857142857143\n",
      "frozenset({'G69_Down'}) --> frozenset({'G9_Down'})  :  0.7575757575757576\n",
      "frozenset({'G90_Up'}) --> frozenset({'G37_Down'})  :  0.8153846153846154\n",
      "frozenset({'G37_Down'}) --> frozenset({'G90_Up'})  :  0.726027397260274\n",
      "frozenset({'G9_Down'}) --> frozenset({'G87_Down'})  :  0.7428571428571429\n",
      "frozenset({'G87_Down'}) --> frozenset({'G9_Down'})  :  0.7323943661971831\n",
      "frozenset({'G27_Down'}) --> frozenset({'G46_Up'})  :  0.7183098591549296\n",
      "frozenset({'G46_Up'}) --> frozenset({'G27_Down'})  :  0.7727272727272727\n",
      "frozenset({'G93_Up'}) --> frozenset({'G37_Down'})  :  0.8225806451612904\n",
      "frozenset({'G0_Up'}) --> frozenset({'G69_Down'})  :  0.7246376811594204\n",
      "frozenset({'G69_Down'}) --> frozenset({'G0_Up'})  :  0.7575757575757576\n",
      "frozenset({'G9_Down'}) --> frozenset({'G46_Up'})  :  0.7285714285714286\n",
      "frozenset({'G46_Up'}) --> frozenset({'G9_Down'})  :  0.7727272727272727\n",
      "frozenset({'G69_Down'}) --> frozenset({'G37_Down'})  :  0.8181818181818182\n",
      "frozenset({'G37_Down'}) --> frozenset({'G69_Down'})  :  0.7397260273972603\n",
      "frozenset({'G53_Up'}) --> frozenset({'G23_Down'})  :  0.7462686567164178\n",
      "frozenset({'G23_Down'}) --> frozenset({'G53_Up'})  :  0.7936507936507936\n",
      "frozenset({'G12_Down'}) --> frozenset({'G81_Down'})  :  0.75\n",
      "frozenset({'G81_Down'}) --> frozenset({'G12_Down'})  :  0.75\n",
      "frozenset({'G87_Down'}) --> frozenset({'G37_Down'})  :  0.7042253521126761\n",
      "frozenset({'G40_Down'}) --> frozenset({'G87_Down'})  :  0.8125\n",
      "frozenset({'G87_Down'}) --> frozenset({'G40_Down'})  :  0.7323943661971831\n",
      "frozenset({'G66_Up'}) --> frozenset({'G37_Down'})  :  0.8225806451612904\n",
      "frozenset({'G51_Down'}) --> frozenset({'G37_Down'})  :  0.8461538461538461\n",
      "frozenset({'G37_Down'}) --> frozenset({'G51_Down'})  :  0.7534246575342467\n",
      "frozenset({'G86_Up'}) --> frozenset({'G27_Down'})  :  0.7761194029850746\n",
      "frozenset({'G27_Down'}) --> frozenset({'G86_Up'})  :  0.7323943661971831\n",
      "frozenset({'G51_Down'}) --> frozenset({'G27_Down'})  :  0.8\n",
      "frozenset({'G27_Down'}) --> frozenset({'G51_Down'})  :  0.7323943661971831\n",
      "frozenset({'G5_Up'}) --> frozenset({'G31_Down'})  :  0.7575757575757576\n",
      "frozenset({'G31_Down'}) --> frozenset({'G5_Up'})  :  0.7352941176470588\n",
      "frozenset({'G96_Down'}) --> frozenset({'G81_Down'})  :  0.8360655737704918\n",
      "frozenset({'G81_Down'}) --> frozenset({'G96_Down'})  :  0.75\n",
      "frozenset({'G1_Down'}) --> frozenset({'G27_Down'})  :  0.7575757575757576\n",
      "frozenset({'G27_Down'}) --> frozenset({'G1_Down'})  :  0.7042253521126761\n",
      "frozenset({'G9_Down'}) --> frozenset({'G37_Down'})  :  0.7571428571428572\n",
      "frozenset({'G37_Down'}) --> frozenset({'G9_Down'})  :  0.726027397260274\n",
      "frozenset({'G0_Up'}) --> frozenset({'G66_Up'})  :  0.7246376811594204\n",
      "frozenset({'G66_Up'}) --> frozenset({'G0_Up'})  :  0.8064516129032259\n",
      "frozenset({'G12_Down'}) --> frozenset({'G5_Up'})  :  0.7352941176470588\n",
      "frozenset({'G5_Up'}) --> frozenset({'G12_Down'})  :  0.7575757575757576\n",
      "frozenset({'G31_Down'}) --> frozenset({'G37_Down'})  :  0.7794117647058824\n",
      "frozenset({'G37_Down'}) --> frozenset({'G31_Down'})  :  0.726027397260274\n",
      "frozenset({'G86_Up'}) --> frozenset({'G87_Down'})  :  0.8059701492537313\n",
      "frozenset({'G87_Down'}) --> frozenset({'G86_Up'})  :  0.7605633802816902\n",
      "frozenset({'G7_Up'}) --> frozenset({'G87_Down'})  :  0.7727272727272727\n",
      "frozenset({'G87_Down'}) --> frozenset({'G7_Up'})  :  0.7183098591549296\n",
      "frozenset({'G95_Down'}) --> frozenset({'G81_Down'})  :  0.7323943661971831\n",
      "frozenset({'G81_Down'}) --> frozenset({'G95_Down'})  :  0.7647058823529411\n",
      "frozenset({'G53_Up'}) --> frozenset({'G0_Up'})  :  0.7462686567164178\n",
      "frozenset({'G0_Up'}) --> frozenset({'G53_Up'})  :  0.7246376811594204\n",
      "frozenset({'G40_Down'}) --> frozenset({'G27_Down'})  :  0.796875\n",
      "frozenset({'G27_Down'}) --> frozenset({'G40_Down'})  :  0.7183098591549296\n",
      "frozenset({'G0_Up'}) --> frozenset({'G9_Down'})  :  0.7246376811594204\n",
      "frozenset({'G9_Down'}) --> frozenset({'G0_Up'})  :  0.7142857142857143\n",
      "frozenset({'G5_Up'}) --> frozenset({'G37_Down'})  :  0.7575757575757576\n",
      "frozenset({'G27_Down'}) --> frozenset({'G9_Down'})  :  0.7183098591549296\n",
      "frozenset({'G9_Down'}) --> frozenset({'G27_Down'})  :  0.7285714285714286\n",
      "frozenset({'G27_Down'}) --> frozenset({'G31_Down'})  :  0.7042253521126761\n",
      "frozenset({'G31_Down'}) --> frozenset({'G27_Down'})  :  0.7352941176470588\n",
      "frozenset({'G27_Down'}) --> frozenset({'G37_Down'})  :  0.7746478873239437\n",
      "frozenset({'G37_Down'}) --> frozenset({'G27_Down'})  :  0.7534246575342467\n",
      "frozenset({'G64_Down'}) --> frozenset({'G37_Down'})  :  0.819672131147541\n",
      "frozenset({'G12_Down'}) --> frozenset({'G27_Down'})  :  0.7352941176470588\n",
      "frozenset({'G27_Down'}) --> frozenset({'G12_Down'})  :  0.7042253521126761\n",
      "frozenset({'G23_Down'}) --> frozenset({'G87_Down'})  :  0.7936507936507936\n",
      "frozenset({'G87_Down'}) --> frozenset({'G23_Down'})  :  0.7042253521126761\n",
      "frozenset({'G1_Down'}) --> frozenset({'G37_Down'})  :  0.7575757575757576\n",
      "frozenset({'G27_Down'}) --> frozenset({'G5_Up'})  :  0.7042253521126761\n",
      "frozenset({'G5_Up'}) --> frozenset({'G27_Down'})  :  0.7575757575757576\n",
      "frozenset({'G46_Up'}) --> frozenset({'G37_Down'})  :  0.8181818181818182\n",
      "frozenset({'G37_Down'}) --> frozenset({'G46_Up'})  :  0.7397260273972603\n",
      "frozenset({'G93_Up'}) --> frozenset({'G9_Down'})  :  0.8064516129032259\n",
      "frozenset({'G9_Down'}) --> frozenset({'G93_Up'})  :  0.7142857142857143\n",
      "frozenset({'G40_Down'}) --> frozenset({'G37_Down'})  :  0.78125\n",
      "frozenset({'G0_Up'}) --> frozenset({'G37_Down'})  :  0.7826086956521741\n",
      "frozenset({'G37_Down'}) --> frozenset({'G0_Up'})  :  0.7397260273972603\n",
      "frozenset({'G53_Up'}) --> frozenset({'G87_Down'})  :  0.7761194029850746\n",
      "frozenset({'G87_Down'}) --> frozenset({'G53_Up'})  :  0.7323943661971831\n"
     ]
    }
   ],
   "source": [
    "res_8 = template1(\"RULE\",\"NONE\",['G58_Up','G71_Up'], 0.7, record, fq_list)\n",
    "for k, v in res_8.items():\n",
    "    print(k[0],\"-->\",k[1],\" : \", v)"
   ]
  },
  {
   "cell_type": "code",
   "execution_count": 82,
   "metadata": {},
   "outputs": [
    {
     "name": "stdout",
     "output_type": "stream",
     "text": [
      "frozenset({'G58_Up'}) --> frozenset({'G27_Down'})  :  0.6710526315789473\n",
      "frozenset({'G58_Up'}) --> frozenset({'G9_Down'})  :  0.6578947368421053\n",
      "frozenset({'G58_Up'}) --> frozenset({'G0_Up'})  :  0.6973684210526316\n",
      "frozenset({'G71_Up'}) --> frozenset({'G96_Down'})  :  0.6891891891891893\n",
      "frozenset({'G71_Up'}) --> frozenset({'G31_Down'})  :  0.6756756756756757\n",
      "frozenset({'G81_Down'}) --> frozenset({'G58_Up'})  :  0.838235294117647\n",
      "frozenset({'G58_Up'}) --> frozenset({'G81_Down'})  :  0.7499999999999999\n",
      "frozenset({'G58_Up'}) --> frozenset({'G5_Up'})  :  0.6710526315789473\n",
      "frozenset({'G71_Up'}) --> frozenset({'G0_Up'})  :  0.7027027027027027\n",
      "frozenset({'G58_Up'}) --> frozenset({'G95_Down'})  :  0.8026315789473684\n",
      "frozenset({'G58_Up'}) --> frozenset({'G86_Up'})  :  0.6710526315789473\n",
      "frozenset({'G71_Up'}) --> frozenset({'G37_Down'})  :  0.6891891891891893\n",
      "frozenset({'G71_Up'}) --> frozenset({'G12_Down'})  :  0.7162162162162162\n",
      "frozenset({'G58_Up'}) --> frozenset({'G12_Down'})  :  0.7105263157894737\n",
      "frozenset({'G71_Up'}) --> frozenset({'G58_Up'})  :  0.8378378378378378\n",
      "frozenset({'G58_Up'}) --> frozenset({'G71_Up'})  :  0.8157894736842105\n",
      "frozenset({'G71_Up'}) --> frozenset({'G81_Down'})  :  0.7837837837837838\n",
      "frozenset({'G81_Down'}) --> frozenset({'G71_Up'})  :  0.8529411764705881\n",
      "frozenset({'G58_Up'}) --> frozenset({'G31_Down'})  :  0.6842105263157895\n",
      "frozenset({'G58_Up'}) --> frozenset({'G37_Down'})  :  0.6973684210526316\n",
      "frozenset({'G58_Up'}) --> frozenset({'G87_Down'})  :  0.7236842105263158\n",
      "frozenset({'G81_Down'}) --> frozenset({'G96_Down'})  :  0.75\n",
      "frozenset({'G81_Down'}) --> frozenset({'G12_Down'})  :  0.75\n",
      "frozenset({'G81_Down'}) --> frozenset({'G95_Down'})  :  0.7647058823529411\n",
      "frozenset({'G71_Up'}) --> frozenset({'G95_Down'})  :  0.7972972972972973\n",
      "frozenset({'G71_Up'}) --> frozenset({'G58_Up', 'G81_Down'})  :  0.7027027027027027\n",
      "frozenset({'G81_Down'}) --> frozenset({'G58_Up', 'G71_Up'})  :  0.7647058823529411\n",
      "frozenset({'G58_Up'}) --> frozenset({'G81_Down', 'G71_Up'})  :  0.6842105263157895\n",
      "frozenset({'G95_Down', 'G71_Up'}) --> frozenset({'G58_Up'})  :  0.864406779661017\n",
      "frozenset({'G95_Down', 'G58_Up'}) --> frozenset({'G71_Up'})  :  0.8360655737704918\n",
      "frozenset({'G71_Up'}) --> frozenset({'G95_Down', 'G58_Up'})  :  0.6891891891891893\n",
      "frozenset({'G58_Up'}) --> frozenset({'G95_Down', 'G71_Up'})  :  0.6710526315789473\n"
     ]
    }
   ],
   "source": [
    "res_7 = template1(\"HEAD\",\"1\",['G58_Up','G71_Up','G81_Down'], 0.4, record, fq_list)\n",
    "for k, v in res_7.items():\n",
    "    print(k[0],\"-->\",k[1],\" : \", v)"
   ]
  },
  {
   "cell_type": "code",
   "execution_count": 29,
   "metadata": {
    "scrolled": true
   },
   "outputs": [
    {
     "name": "stdout",
     "output_type": "stream",
     "text": [
      "frozenset({'G81_Down'}) --> frozenset({'G58_Up'})  :  0.838235294117647\n",
      "frozenset({'G58_Up'}) --> frozenset({'G81_Down'})  :  0.7499999999999999\n",
      "frozenset({'G71_Up'}) --> frozenset({'G58_Up'})  :  0.8378378378378378\n",
      "frozenset({'G58_Up'}) --> frozenset({'G71_Up'})  :  0.8157894736842105\n",
      "frozenset({'G95_Down', 'G71_Up'}) --> frozenset({'G58_Up'})  :  0.864406779661017\n",
      "frozenset({'G58_Up', 'G71_Up'}) --> frozenset({'G95_Down'})  :  0.8225806451612904\n",
      "frozenset({'G58_Up', 'G95_Down'}) --> frozenset({'G71_Up'})  :  0.8360655737704918\n",
      "frozenset({'G71_Up'}) --> frozenset({'G58_Up', 'G95_Down'})  :  0.6891891891891893\n",
      "frozenset({'G58_Up'}) --> frozenset({'G95_Down', 'G71_Up'})  :  0.6710526315789473\n",
      "frozenset({'G71_Up'}) --> frozenset({'G81_Down'})  :  0.7837837837837838\n",
      "frozenset({'G81_Down'}) --> frozenset({'G71_Up'})  :  0.8529411764705881\n"
     ]
    }
   ],
   "source": [
    "res_6 = template1(\"RULE\",\"2\",['G58_Up','G71_Up','G81_Down'], 0.4, record, fq_list)\n",
    "check = frozenset(['G58_Up','G71_Up','G81_Down'])\n",
    "for k, v in res_6.items():\n",
    "    if len(k[0] - check) != len(k[0]):\n",
    "        print(k[0],\"-->\",k[1],\" : \", v)\n",
    "    "
   ]
  },
  {
   "cell_type": "code",
   "execution_count": 30,
   "metadata": {},
   "outputs": [],
   "source": [
    "def template_rule_num(cmd_2, items, min_conf, record, fq_list):\n",
    "    res = {}\n",
    "    layer = int(cmd_2)\n",
    "    combinations = []\n",
    "    itemsets = item_combinations(items)[layer - 1]\n",
    "    non_itemsets = [(frozenset(items) - item) for item in itemsets]\n",
    "    for item in non_itemsets:\n",
    "        sub_all = combination_none([i for i in item], fq_list)\n",
    "        check = frozenset(items) - item\n",
    "        row = []\n",
    "        for i in sub_all:\n",
    "            for j in i:\n",
    "                if check.issubset(j):\n",
    "                    row.append(j)\n",
    "        combinations.append(row)  \n",
    "    get_rule(combinations, min_conf, res)\n",
    "    return res"
   ]
  },
  {
   "cell_type": "code",
   "execution_count": 31,
   "metadata": {},
   "outputs": [
    {
     "name": "stdout",
     "output_type": "stream",
     "text": [
      "frozenset({'G81_Down', 'G71_Up'}) --> frozenset({'G58_Up'})  :  0.8965517241379312\n",
      "frozenset({'G58_Up', 'G71_Up'}) --> frozenset({'G81_Down'})  :  0.8387096774193549\n",
      "frozenset({'G58_Up', 'G81_Down'}) --> frozenset({'G71_Up'})  :  0.912280701754386\n",
      "frozenset({'G71_Up'}) --> frozenset({'G58_Up', 'G81_Down'})  :  0.7027027027027027\n",
      "frozenset({'G81_Down'}) --> frozenset({'G58_Up', 'G71_Up'})  :  0.7647058823529411\n"
     ]
    }
   ],
   "source": [
    "res_7 = template1(\"RULE\",\"3\",['G58_Up','G71_Up','G81_Down'], 0.7, record, fq_list)\n",
    "for k, v in res_7.items():\n",
    "    print(k[0],\"-->\",k[1],\" : \", v)"
   ]
  },
  {
   "cell_type": "code",
   "execution_count": 32,
   "metadata": {
    "scrolled": true
   },
   "outputs": [
    {
     "name": "stdout",
     "output_type": "stream",
     "text": [
      "frozenset({'G71_Up'}) --> frozenset({'G12_Down'})  :  0.7162162162162162\n",
      "frozenset({'G12_Down'}) --> frozenset({'G71_Up'})  :  0.7794117647058824\n",
      "frozenset({'G96_Down'}) --> frozenset({'G71_Up'})  :  0.8360655737704918\n",
      "frozenset({'G71_Up'}) --> frozenset({'G0_Up'})  :  0.7027027027027027\n",
      "frozenset({'G0_Up'}) --> frozenset({'G71_Up'})  :  0.7536231884057972\n",
      "frozenset({'G71_Up'}) --> frozenset({'G95_Down'})  :  0.7972972972972973\n",
      "frozenset({'G95_Down'}) --> frozenset({'G71_Up'})  :  0.8309859154929577\n",
      "frozenset({'G31_Down'}) --> frozenset({'G71_Up'})  :  0.7352941176470588\n",
      "frozenset({'G96_Down'}) --> frozenset({'G81_Down'})  :  0.8360655737704918\n",
      "frozenset({'G81_Down'}) --> frozenset({'G96_Down'})  :  0.75\n",
      "frozenset({'G81_Down'}) --> frozenset({'G12_Down'})  :  0.75\n",
      "frozenset({'G12_Down'}) --> frozenset({'G81_Down'})  :  0.75\n",
      "frozenset({'G81_Down'}) --> frozenset({'G95_Down'})  :  0.7647058823529411\n",
      "frozenset({'G95_Down'}) --> frozenset({'G81_Down'})  :  0.7323943661971831\n",
      "frozenset({'G12_Down'}) --> frozenset({'G58_Up'})  :  0.7941176470588235\n",
      "frozenset({'G58_Up'}) --> frozenset({'G12_Down'})  :  0.7105263157894737\n",
      "frozenset({'G37_Down'}) --> frozenset({'G58_Up'})  :  0.726027397260274\n",
      "frozenset({'G31_Down'}) --> frozenset({'G58_Up'})  :  0.7647058823529411\n",
      "frozenset({'G0_Up'}) --> frozenset({'G58_Up'})  :  0.7681159420289856\n",
      "frozenset({'G86_Up'}) --> frozenset({'G58_Up'})  :  0.7611940298507462\n",
      "frozenset({'G58_Up'}) --> frozenset({'G87_Down'})  :  0.7236842105263158\n",
      "frozenset({'G87_Down'}) --> frozenset({'G58_Up'})  :  0.7746478873239437\n",
      "frozenset({'G95_Down'}) --> frozenset({'G58_Up'})  :  0.8591549295774649\n",
      "frozenset({'G58_Up'}) --> frozenset({'G95_Down'})  :  0.8026315789473684\n",
      "frozenset({'G9_Down'}) --> frozenset({'G58_Up'})  :  0.7142857142857143\n",
      "frozenset({'G27_Down'}) --> frozenset({'G58_Up'})  :  0.7183098591549296\n",
      "frozenset({'G5_Up'}) --> frozenset({'G58_Up'})  :  0.7727272727272727\n"
     ]
    }
   ],
   "source": [
    "res_8 = template_rule_num(\"1\", ['G58_Up','G71_Up','G81_Down'], 0.7, record, fq_list)\n",
    "for k, v in res_8.items():\n",
    "    print(k[0],\"-->\",k[1],\" : \", v)"
   ]
  },
  {
   "cell_type": "code",
   "execution_count": 35,
   "metadata": {},
   "outputs": [],
   "source": [
    "def template_rule_any(items, min_conf, record):\n",
    "    res = {}\n",
    "    combinations = combination(items)\n",
    "    for row in combinations:\n",
    "        for elem in row:\n",
    "            rule_gen(elem, record, min_conf, res)\n",
    "    return res"
   ]
  },
  {
   "cell_type": "code",
   "execution_count": 36,
   "metadata": {},
   "outputs": [
    {
     "data": {
      "text/plain": [
       "['G58_Up', 'G81_Down', 'G71_Up']"
      ]
     },
     "execution_count": 36,
     "metadata": {},
     "output_type": "execute_result"
    }
   ],
   "source": [
    "[i for i in frozenset({'G58_Up', 'G71_Up', 'G81_Down'})]"
   ]
  },
  {
   "cell_type": "code",
   "execution_count": 40,
   "metadata": {},
   "outputs": [
    {
     "data": {
      "text/plain": [
       "[[frozenset({'G0_Up', 'G37_Down'}),\n",
       "  frozenset({'G27_Down', 'G37_Down'}),\n",
       "  frozenset({'G27_Down', 'G46_Up'}),\n",
       "  frozenset({'G93_Up', 'G9_Down'}),\n",
       "  frozenset({'G37_Down', 'G69_Down'}),\n",
       "  frozenset({'G27_Down', 'G40_Down'}),\n",
       "  frozenset({'G1_Down', 'G27_Down'}),\n",
       "  frozenset({'G23_Down', 'G53_Up'}),\n",
       "  frozenset({'G37_Down', 'G46_Up'}),\n",
       "  frozenset({'G0_Up', 'G53_Up'}),\n",
       "  frozenset({'G23_Down', 'G87_Down'}),\n",
       "  frozenset({'G27_Down', 'G9_Down'}),\n",
       "  frozenset({'G87_Down', 'G9_Down'}),\n",
       "  frozenset({'G12_Down', 'G5_Up'}),\n",
       "  frozenset({'G7_Up', 'G87_Down'}),\n",
       "  frozenset({'G37_Down', 'G90_Up'}),\n",
       "  frozenset({'G31_Down', 'G37_Down'}),\n",
       "  frozenset({'G37_Down', 'G40_Down'}),\n",
       "  frozenset({'G37_Down', 'G5_Up'}),\n",
       "  frozenset({'G27_Down', 'G31_Down'}),\n",
       "  frozenset({'G37_Down', 'G66_Up'}),\n",
       "  frozenset({'G37_Down', 'G87_Down'}),\n",
       "  frozenset({'G0_Up', 'G69_Down'}),\n",
       "  frozenset({'G37_Down', 'G64_Down'}),\n",
       "  frozenset({'G40_Down', 'G87_Down'}),\n",
       "  frozenset({'G69_Down', 'G9_Down'}),\n",
       "  frozenset({'G0_Up', 'G66_Up'}),\n",
       "  frozenset({'G46_Up', 'G9_Down'}),\n",
       "  frozenset({'G12_Down', 'G27_Down'}),\n",
       "  frozenset({'G37_Down', 'G51_Down'}),\n",
       "  frozenset({'G27_Down', 'G51_Down'}),\n",
       "  frozenset({'G53_Up', 'G87_Down'}),\n",
       "  frozenset({'G27_Down', 'G86_Up'}),\n",
       "  frozenset({'G0_Up', 'G9_Down'}),\n",
       "  frozenset({'G37_Down', 'G9_Down'}),\n",
       "  frozenset({'G37_Down', 'G93_Up'}),\n",
       "  frozenset({'G27_Down', 'G5_Up'}),\n",
       "  frozenset({'G86_Up', 'G87_Down'}),\n",
       "  frozenset({'G31_Down', 'G5_Up'}),\n",
       "  frozenset({'G1_Down', 'G37_Down'}),\n",
       "  frozenset({'G27_Down', 'G87_Down'})],\n",
       " []]"
      ]
     },
     "execution_count": 40,
     "metadata": {},
     "output_type": "execute_result"
    }
   ],
   "source": [
    "combination_none(['G58_Up','G71_Up','G81_Down'],fq_list)"
   ]
  },
  {
   "cell_type": "code",
   "execution_count": 41,
   "metadata": {},
   "outputs": [],
   "source": [
    "def template_rule_none(items, min_conf, record, fq_list):\n",
    "    res = {}\n",
    "    combinations = []\n",
    "    itemset = frozenset(items)\n",
    "    for row in fq_list[1:-1]:\n",
    "        combinations.append([])\n",
    "        for item in row:\n",
    "            if len(item) == len(item - itemset):\n",
    "                combinations[-1].append(item)\n",
    "    for row in combinations:\n",
    "        for elem in row:\n",
    "            rule_gen(elem, record, min_conf, res)\n",
    "    return res"
   ]
  },
  {
   "cell_type": "code",
   "execution_count": 42,
   "metadata": {},
   "outputs": [
    {
     "name": "stdout",
     "output_type": "stream",
     "text": [
      "frozenset({'G12_Down'}) --> frozenset({'G58_Up'})  :  0.7941176470588235\n",
      "frozenset({'G58_Up'}) --> frozenset({'G12_Down'})  :  0.7105263157894737\n",
      "frozenset({'G37_Down'}) --> frozenset({'G58_Up'})  :  0.726027397260274\n",
      "frozenset({'G71_Up'}) --> frozenset({'G12_Down'})  :  0.7162162162162162\n",
      "frozenset({'G12_Down'}) --> frozenset({'G71_Up'})  :  0.7794117647058824\n",
      "frozenset({'G96_Down'}) --> frozenset({'G81_Down'})  :  0.8360655737704918\n",
      "frozenset({'G81_Down'}) --> frozenset({'G96_Down'})  :  0.75\n",
      "frozenset({'G31_Down'}) --> frozenset({'G58_Up'})  :  0.7647058823529411\n",
      "frozenset({'G71_Up'}) --> frozenset({'G81_Down'})  :  0.7837837837837838\n",
      "frozenset({'G81_Down'}) --> frozenset({'G71_Up'})  :  0.8529411764705881\n",
      "frozenset({'G0_Up'}) --> frozenset({'G58_Up'})  :  0.7681159420289856\n",
      "frozenset({'G86_Up'}) --> frozenset({'G58_Up'})  :  0.7611940298507462\n",
      "frozenset({'G96_Down'}) --> frozenset({'G71_Up'})  :  0.8360655737704918\n",
      "frozenset({'G81_Down'}) --> frozenset({'G12_Down'})  :  0.75\n",
      "frozenset({'G12_Down'}) --> frozenset({'G81_Down'})  :  0.75\n",
      "frozenset({'G58_Up'}) --> frozenset({'G87_Down'})  :  0.7236842105263158\n",
      "frozenset({'G87_Down'}) --> frozenset({'G58_Up'})  :  0.7746478873239437\n",
      "frozenset({'G71_Up'}) --> frozenset({'G0_Up'})  :  0.7027027027027027\n",
      "frozenset({'G0_Up'}) --> frozenset({'G71_Up'})  :  0.7536231884057972\n",
      "frozenset({'G95_Down'}) --> frozenset({'G58_Up'})  :  0.8591549295774649\n",
      "frozenset({'G58_Up'}) --> frozenset({'G95_Down'})  :  0.8026315789473684\n",
      "frozenset({'G71_Up'}) --> frozenset({'G95_Down'})  :  0.7972972972972973\n",
      "frozenset({'G95_Down'}) --> frozenset({'G71_Up'})  :  0.8309859154929577\n",
      "frozenset({'G9_Down'}) --> frozenset({'G58_Up'})  :  0.7142857142857143\n",
      "frozenset({'G71_Up'}) --> frozenset({'G58_Up'})  :  0.8378378378378378\n",
      "frozenset({'G58_Up'}) --> frozenset({'G71_Up'})  :  0.8157894736842105\n",
      "frozenset({'G27_Down'}) --> frozenset({'G58_Up'})  :  0.7183098591549296\n",
      "frozenset({'G81_Down'}) --> frozenset({'G95_Down'})  :  0.7647058823529411\n",
      "frozenset({'G95_Down'}) --> frozenset({'G81_Down'})  :  0.7323943661971831\n",
      "frozenset({'G5_Up'}) --> frozenset({'G58_Up'})  :  0.7727272727272727\n",
      "frozenset({'G81_Down'}) --> frozenset({'G58_Up'})  :  0.838235294117647\n",
      "frozenset({'G58_Up'}) --> frozenset({'G81_Down'})  :  0.7499999999999999\n",
      "frozenset({'G31_Down'}) --> frozenset({'G71_Up'})  :  0.7352941176470588\n",
      "frozenset({'G81_Down', 'G71_Up'}) --> frozenset({'G58_Up'})  :  0.8965517241379312\n",
      "frozenset({'G58_Up', 'G71_Up'}) --> frozenset({'G81_Down'})  :  0.8387096774193549\n",
      "frozenset({'G58_Up', 'G81_Down'}) --> frozenset({'G71_Up'})  :  0.912280701754386\n",
      "frozenset({'G71_Up'}) --> frozenset({'G58_Up', 'G81_Down'})  :  0.7027027027027027\n",
      "frozenset({'G81_Down'}) --> frozenset({'G58_Up', 'G71_Up'})  :  0.7647058823529411\n",
      "frozenset({'G95_Down', 'G71_Up'}) --> frozenset({'G58_Up'})  :  0.864406779661017\n",
      "frozenset({'G58_Up', 'G71_Up'}) --> frozenset({'G95_Down'})  :  0.8225806451612904\n",
      "frozenset({'G58_Up', 'G95_Down'}) --> frozenset({'G71_Up'})  :  0.8360655737704918\n",
      "frozenset({'G95_Down'}) --> frozenset({'G58_Up', 'G71_Up'})  :  0.7183098591549296\n"
     ]
    }
   ],
   "source": [
    "res_3 = template1(\"RULE\",\"ANY\",['G58_Up','G71_Up','G81_Down'], 0.7, record, fq_list)\n",
    "for k, v in res_3.items():\n",
    "    print(k[0],\"-->\",k[1],\" : \", v)"
   ]
  },
  {
   "cell_type": "code",
   "execution_count": 43,
   "metadata": {},
   "outputs": [
    {
     "data": {
      "text/plain": [
       "int"
      ]
     },
     "execution_count": 43,
     "metadata": {},
     "output_type": "execute_result"
    }
   ],
   "source": [
    "type(int(\"12\"))"
   ]
  },
  {
   "cell_type": "code",
   "execution_count": 44,
   "metadata": {},
   "outputs": [
    {
     "name": "stdout",
     "output_type": "stream",
     "text": [
      "frozenset({'G12_Down'}) --> frozenset({'G58_Up'})  :  0.7941176470588235\n",
      "frozenset({'G58_Up'}) --> frozenset({'G12_Down'})  :  0.7105263157894737\n",
      "frozenset({'G37_Down'}) --> frozenset({'G58_Up'})  :  0.726027397260274\n",
      "frozenset({'G71_Up'}) --> frozenset({'G12_Down'})  :  0.7162162162162162\n",
      "frozenset({'G12_Down'}) --> frozenset({'G71_Up'})  :  0.7794117647058824\n",
      "frozenset({'G96_Down'}) --> frozenset({'G81_Down'})  :  0.8360655737704918\n",
      "frozenset({'G81_Down'}) --> frozenset({'G96_Down'})  :  0.75\n",
      "frozenset({'G31_Down'}) --> frozenset({'G58_Up'})  :  0.7647058823529411\n",
      "frozenset({'G71_Up'}) --> frozenset({'G81_Down'})  :  0.7837837837837838\n",
      "frozenset({'G81_Down'}) --> frozenset({'G71_Up'})  :  0.8529411764705881\n",
      "frozenset({'G0_Up'}) --> frozenset({'G58_Up'})  :  0.7681159420289856\n",
      "frozenset({'G86_Up'}) --> frozenset({'G58_Up'})  :  0.7611940298507462\n",
      "frozenset({'G96_Down'}) --> frozenset({'G71_Up'})  :  0.8360655737704918\n",
      "frozenset({'G81_Down'}) --> frozenset({'G12_Down'})  :  0.75\n",
      "frozenset({'G12_Down'}) --> frozenset({'G81_Down'})  :  0.75\n",
      "frozenset({'G58_Up'}) --> frozenset({'G87_Down'})  :  0.7236842105263158\n",
      "frozenset({'G87_Down'}) --> frozenset({'G58_Up'})  :  0.7746478873239437\n",
      "frozenset({'G71_Up'}) --> frozenset({'G0_Up'})  :  0.7027027027027027\n",
      "frozenset({'G0_Up'}) --> frozenset({'G71_Up'})  :  0.7536231884057972\n",
      "frozenset({'G95_Down'}) --> frozenset({'G58_Up'})  :  0.8591549295774649\n",
      "frozenset({'G58_Up'}) --> frozenset({'G95_Down'})  :  0.8026315789473684\n",
      "frozenset({'G71_Up'}) --> frozenset({'G95_Down'})  :  0.7972972972972973\n",
      "frozenset({'G95_Down'}) --> frozenset({'G71_Up'})  :  0.8309859154929577\n",
      "frozenset({'G9_Down'}) --> frozenset({'G58_Up'})  :  0.7142857142857143\n",
      "frozenset({'G71_Up'}) --> frozenset({'G58_Up'})  :  0.8378378378378378\n",
      "frozenset({'G58_Up'}) --> frozenset({'G71_Up'})  :  0.8157894736842105\n",
      "frozenset({'G27_Down'}) --> frozenset({'G58_Up'})  :  0.7183098591549296\n",
      "frozenset({'G81_Down'}) --> frozenset({'G95_Down'})  :  0.7647058823529411\n",
      "frozenset({'G95_Down'}) --> frozenset({'G81_Down'})  :  0.7323943661971831\n",
      "frozenset({'G5_Up'}) --> frozenset({'G58_Up'})  :  0.7727272727272727\n",
      "frozenset({'G81_Down'}) --> frozenset({'G58_Up'})  :  0.838235294117647\n",
      "frozenset({'G58_Up'}) --> frozenset({'G81_Down'})  :  0.7499999999999999\n",
      "frozenset({'G31_Down'}) --> frozenset({'G71_Up'})  :  0.7352941176470588\n",
      "frozenset({'G81_Down', 'G71_Up'}) --> frozenset({'G58_Up'})  :  0.8965517241379312\n",
      "frozenset({'G58_Up', 'G71_Up'}) --> frozenset({'G81_Down'})  :  0.8387096774193549\n",
      "frozenset({'G58_Up', 'G81_Down'}) --> frozenset({'G71_Up'})  :  0.912280701754386\n",
      "frozenset({'G71_Up'}) --> frozenset({'G58_Up', 'G81_Down'})  :  0.7027027027027027\n",
      "frozenset({'G81_Down'}) --> frozenset({'G58_Up', 'G71_Up'})  :  0.7647058823529411\n",
      "frozenset({'G95_Down', 'G71_Up'}) --> frozenset({'G58_Up'})  :  0.864406779661017\n",
      "frozenset({'G58_Up', 'G71_Up'}) --> frozenset({'G95_Down'})  :  0.8225806451612904\n",
      "frozenset({'G58_Up', 'G95_Down'}) --> frozenset({'G71_Up'})  :  0.8360655737704918\n",
      "frozenset({'G95_Down'}) --> frozenset({'G58_Up', 'G71_Up'})  :  0.7183098591549296\n"
     ]
    }
   ],
   "source": [
    "res_6 = template1(\"RULE\",\"ANY\",['G58_Up','G71_Up','G81_Down'], 0.7, record, fq_list)\n",
    "for k, v in res_6.items():\n",
    "    print(k[0],\"-->\",k[1],\" : \", v)"
   ]
  },
  {
   "cell_type": "code",
   "execution_count": null,
   "metadata": {},
   "outputs": [],
   "source": []
  },
  {
   "cell_type": "code",
   "execution_count": null,
   "metadata": {},
   "outputs": [],
   "source": []
  }
 ],
 "metadata": {
  "kernelspec": {
   "display_name": "Python 3",
   "language": "python",
   "name": "python3"
  },
  "language_info": {
   "codemirror_mode": {
    "name": "ipython",
    "version": 3
   },
   "file_extension": ".py",
   "mimetype": "text/x-python",
   "name": "python",
   "nbconvert_exporter": "python",
   "pygments_lexer": "ipython3",
   "version": "3.6.4"
  }
 },
 "nbformat": 4,
 "nbformat_minor": 2
}
